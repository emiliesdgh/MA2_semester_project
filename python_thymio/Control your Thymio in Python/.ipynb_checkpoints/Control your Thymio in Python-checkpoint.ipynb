{
 "cells": [
  {
   "cell_type": "markdown",
   "metadata": {},
   "source": [
    "\n",
    "<div style=\"border:1px solid black; padding:20px 20px;text-align: justify;text-justify: inter-word\">\n",
    "    <strong>Control your Thymio in Python - Introduction to the tdmclient Library<br/> Autumn 2022 <br/> \n",
    "    <span style=\"text-decoration:underline;font-weight:bold;\">How to use this notebook?</span><br/>\n",
    "    This notebook is made of text cells and code cells. The code cells have to be <strong>executed</strong> to see the result of the program. To execute a cell, simply select it and click on the \"play\" button (<span style=\"font: bold 12px/30px Arial, serif;\">&#9658;</span>) in the tool bar just above the notebook, or type <code>shift + enter</code>. It is important to execute the code cells in their order of appearance in the notebook.<br/>\n",
    "You can make use of the table of contents to navigate easily between sections.\n",
    "</div>\n",
    "\n",
    "<br/>"
   ]
  },
  {
   "cell_type": "markdown",
   "metadata": {
    "tags": []
   },
   "source": [
    "# 1. Installations"
   ]
  },
  {
   "cell_type": "markdown",
   "metadata": {
    "ExecuteTime": {
     "end_time": "2021-08-29T09:32:26.328839Z",
     "start_time": "2021-08-29T09:32:26.315398Z"
    }
   },
   "source": [
    "Tdmclient is a python package that will allow you to connect your Thymio II robot via the Thymio Device Manager (component of the Thymio Suite). This notebook is based on the tdm client tutorial https://pypi.org/project/tdmclient/, where you can find more details about the package. "
   ]
  },
  {
   "cell_type": "markdown",
   "metadata": {},
   "source": [
    "To complete this tutorial, you will need to <span style=\"color:orange\"> **install Thymio Suite** (https://www.thymio.org/program/), **Python 3** (https://www.python.org/downloads/), and **pip3 - the package installer for Python** - (https://pypi.org/project/pip/).</span>"
   ]
  },
  {
   "cell_type": "markdown",
   "metadata": {},
   "source": [
    "To install the tdm client, run the next cell"
   ]
  },
  {
   "cell_type": "code",
   "execution_count": null,
   "metadata": {
    "ExecuteTime": {
     "end_time": "2021-09-18T19:10:08.937798Z",
     "start_time": "2021-09-18T19:10:06.445255Z"
    },
    "scrolled": true
   },
   "outputs": [],
   "source": [
    "#Install the tdmclient package:\n",
    "!pip3 install tdmclient"
   ]
  },
  {
   "cell_type": "markdown",
   "metadata": {},
   "source": [
    "If you want to upgrade it:"
   ]
  },
  {
   "cell_type": "code",
   "execution_count": null,
   "metadata": {
    "ExecuteTime": {
     "end_time": "2021-09-29T08:50:41.808098Z",
     "start_time": "2021-09-29T08:50:31.618365Z"
    }
   },
   "outputs": [],
   "source": [
    "# To upgrade the package (if you already installed it)\n",
    "!pip3 install --upgrade tdmclient"
   ]
  },
  {
   "cell_type": "markdown",
   "metadata": {},
   "source": [
    "## Note : Upgrading the Thymio firmware"
   ]
  },
  {
   "cell_type": "markdown",
   "metadata": {},
   "source": [
    "Note: *if you want to be able to access and control the LEDs from the serial port, you will have to upgrade the Thymio's firmware to the version 13. This however is not necessary but if you think that you need it then you will have to install Thymio suite, launch Aseba Studio and then right click on the Thymio and select upgrade firmware.*"
   ]
  },
  {
   "cell_type": "markdown",
   "metadata": {},
   "source": [
    "# 2. Display the list of Thymio robots connected to the computer with tdmclient.tools.list"
   ]
  },
  {
   "cell_type": "markdown",
   "metadata": {},
   "source": [
    "<span style=\"color:orange\">**FIRST: Open Thymio Suite**</span>\n",
    "\n",
    "We can use the tdmclient to display the list of Thymio robots connected to the computer via the tool list `tools.list`. Your **robot should be connected via USB or via the RF dongle**. It is important to note that **only one client can control the robot at the same time**: so we will need to choose if we want to use **Aseba Studio (in the Thymio Suite) or Python (via the tdmclient)**."
   ]
  },
  {
   "cell_type": "markdown",
   "metadata": {},
   "source": [
    "If you have already started to control your robot via Aseba Studio, you can unlock the robot by clicking the little lock icon in the tab title near the top left corner of the Aseba Studio window."
   ]
  },
  {
   "cell_type": "code",
   "execution_count": null,
   "metadata": {
    "ExecuteTime": {
     "end_time": "2021-09-29T08:50:54.124139Z",
     "start_time": "2021-09-29T08:50:52.453610Z"
    }
   },
   "outputs": [],
   "source": [
    "#The exclamation point (!) allow to execute a terminal command in the notebook:\n",
    "!python3 -m tdmclient.tools.list"
   ]
  },
  {
   "cell_type": "markdown",
   "metadata": {},
   "source": [
    "If you **get any error because python is not found**, please try to replace `python3` by `python` (just remove the 3 in the command line and the following ones)."
   ]
  },
  {
   "cell_type": "markdown",
   "metadata": {},
   "source": [
    "# 3. Observe variable changes\n",
    "\n",
    "If you want to observe the status of the variables on the Thymio (e.g. for debugging), there are two options"
   ]
  },
  {
   "cell_type": "markdown",
   "metadata": {},
   "source": [
    "## 3.1. In the notebook using tdmclient.tools.watch"
   ]
  },
  {
   "cell_type": "markdown",
   "metadata": {},
   "source": [
    "Display all node changes (variables, events and program in the scratchpad) until control-C is typed. You should type this command line in your command prompt (not supported on the notebook)"
   ]
  },
  {
   "cell_type": "raw",
   "metadata": {
    "ExecuteTime": {
     "start_time": "2021-09-28T14:32:31.104Z"
    }
   },
   "source": [
    "python3 -m tdmclient.tools.watch"
   ]
  },
  {
   "cell_type": "markdown",
   "metadata": {},
   "source": [
    "## 3.2. In a gui using tdm.client.tools.gui\n",
    "Run the variable browser in a window. The GUI is implemented with TK which we install with the following command"
   ]
  },
  {
   "cell_type": "code",
   "execution_count": null,
   "metadata": {},
   "outputs": [],
   "source": [
    "!python -m pip install tk-tools"
   ]
  },
  {
   "cell_type": "code",
   "execution_count": null,
   "metadata": {
    "ExecuteTime": {
     "end_time": "2021-09-29T08:52:35.302392Z",
     "start_time": "2021-09-29T08:52:27.725666Z"
    }
   },
   "outputs": [],
   "source": [
    "!python3 -m tdmclient.tools.gui"
   ]
  },
  {
   "cell_type": "markdown",
   "metadata": {},
   "source": [
    "At launch, the robot is unlocked, i.e. the variables are just fetched and displayed: Observe is displayed in the status area at the bottom of the window. To be able to change them, activate menu Robot>Control. Then you can click any variable, change its value and type Return to confirm or Esc to cancel."
   ]
  },
  {
   "cell_type": "markdown",
   "metadata": {},
   "source": [
    "# 4. Programing the Thymio directly from Jupyter Notebooks"
   ]
  },
  {
   "cell_type": "markdown",
   "metadata": {},
   "source": [
    "In order to resolve the `Node lock error`, meaning that one client had already locked the robot:\n",
    " - first check that the robot **is not already locked in Thymio Suite** (little lock icon in the tab title near the top left corner of the Aseba Studio window).\n",
    " - then if you cannot unlock the robot, you would need to restart the kernel of the notebook (circular arrow shortcut), it is a safe way to ensure that your Thymio is not locked by any client. \n",
    " \n",
    "*If there is any code remaining on the Thymio from your previous tries, you can simply turn off/on the robot.*"
   ]
  },
  {
   "cell_type": "code",
   "execution_count": null,
   "metadata": {
    "ExecuteTime": {
     "end_time": "2021-09-29T09:00:54.579150Z",
     "start_time": "2021-09-29T09:00:51.818537Z"
    }
   },
   "outputs": [],
   "source": [
    "# Import tdmclient Notebook environment:\n",
    "import tdmclient.notebook\n",
    "await tdmclient.notebook.start()"
   ]
  },
  {
   "cell_type": "markdown",
   "metadata": {},
   "source": [
    "## Passing values to the Thymio (option 1)"
   ]
  },
  {
   "cell_type": "markdown",
   "metadata": {},
   "source": [
    "Then the variables which match the robot's are synchronized in both directions, you can simply set the value of the following variables:\n",
    "\n",
    "- For the motor speed : motor_left_target,  motor_right_target\n",
    "- For the robot leds : leds_top, leds_bottom_left, leds_bottom_right\n",
    "- leds_buttons\n",
    "\n",
    "How"
   ]
  },
  {
   "cell_type": "code",
   "execution_count": null,
   "metadata": {
    "ExecuteTime": {
     "end_time": "2021-09-29T09:00:56.550874Z",
     "start_time": "2021-09-29T09:00:56.524943Z"
    }
   },
   "outputs": [],
   "source": [
    "\n",
    "motor_left_target = 50"
   ]
  },
  {
   "cell_type": "code",
   "execution_count": null,
   "metadata": {
    "ExecuteTime": {
     "end_time": "2021-09-29T09:00:57.212105Z",
     "start_time": "2021-09-29T09:00:57.183183Z"
    }
   },
   "outputs": [],
   "source": [
    "motor_left_target = 0"
   ]
  },
  {
   "cell_type": "code",
   "execution_count": null,
   "metadata": {
    "ExecuteTime": {
     "end_time": "2021-09-29T09:00:57.726727Z",
     "start_time": "2021-09-29T09:00:57.709777Z"
    }
   },
   "outputs": [],
   "source": [
    "# Set color with a list [R, G, B] values between 0 and 32 - here cyan\n",
    "leds_top = [0, 32, 32]"
   ]
  },
  {
   "cell_type": "code",
   "execution_count": null,
   "metadata": {},
   "outputs": [],
   "source": [
    "# Set color with a list [R, G, B] values between 0 and 32 - here yellow\n",
    "leds_bottom_left = [32,32,0]"
   ]
  },
  {
   "cell_type": "code",
   "execution_count": null,
   "metadata": {},
   "outputs": [],
   "source": [
    "leds_button"
   ]
  },
  {
   "cell_type": "markdown",
   "metadata": {
    "ExecuteTime": {
     "end_time": "2021-09-06T09:22:44.390472Z",
     "start_time": "2021-09-06T09:22:44.375276Z"
    }
   },
   "source": [
    "Note that in python, dots *.* are replaced by underscores *_*: \"motor.left.target\" in Aseba become \"motor_left_target\" in python."
   ]
  },
  {
   "cell_type": "markdown",
   "metadata": {},
   "source": [
    "## Reading values from the Thymio sensors (option 1)"
   ]
  },
  {
   "cell_type": "markdown",
   "metadata": {},
   "source": [
    "You can simply use `print(sensor_name)` or type the sensor name in a single cell:"
   ]
  },
  {
   "cell_type": "code",
   "execution_count": null,
   "metadata": {
    "ExecuteTime": {
     "end_time": "2021-09-29T09:00:59.988674Z",
     "start_time": "2021-09-29T09:00:59.946787Z"
    }
   },
   "outputs": [],
   "source": [
    "prox_horizontal"
   ]
  },
  {
   "cell_type": "markdown",
   "metadata": {},
   "source": [
    "Now, we are going to use simply a loop to get multiple values:"
   ]
  },
  {
   "cell_type": "code",
   "execution_count": null,
   "metadata": {
    "ExecuteTime": {
     "end_time": "2021-09-29T09:01:01.603354Z",
     "start_time": "2021-09-29T09:01:01.579418Z"
    }
   },
   "outputs": [],
   "source": [
    "for i in range(10):\n",
    "    print(prox_horizontal)"
   ]
  },
  {
   "cell_type": "markdown",
   "metadata": {},
   "source": [
    "All **the values of the proximity sensors are the same in this cell**! This is why we will later see the **Option 2**, a method to get updated values easily."
   ]
  },
  {
   "cell_type": "markdown",
   "metadata": {},
   "source": [
    "## Load code directly on the Thymio (not executed on your computer)"
   ]
  },
  {
   "cell_type": "markdown",
   "metadata": {},
   "source": [
    "Now, we will use a quite **different approach**. Previously, you were executing code in python on your computer, in order to control the robot. Now, we are going to code in python, and then this code will be *transpiled* in Aseba, and then loaded directly on the robot.\n",
    "> Aseba is the native language used to program the Thymio robot (you can find more about it here http://wiki.thymio.org/en:asebalanguage)"
   ]
  },
  {
   "cell_type": "markdown",
   "metadata": {
    "ExecuteTime": {
     "end_time": "2021-09-21T16:47:38.746778Z",
     "start_time": "2021-09-21T16:47:38.735266Z"
    }
   },
   "source": [
    "You can use python code that will be transpiled in Aseba with `%%run_python`:"
   ]
  },
  {
   "cell_type": "code",
   "execution_count": null,
   "metadata": {
    "ExecuteTime": {
     "end_time": "2021-09-29T09:01:05.306444Z",
     "start_time": "2021-09-29T09:01:05.036169Z"
    }
   },
   "outputs": [],
   "source": [
    "%%run_python\n",
    "v = [32, 0, 32, 0, 32, 0, 32, 0]\n",
    "leds_circle = v"
   ]
  },
  {
   "cell_type": "markdown",
   "metadata": {},
   "source": [
    "You can use Aseba code directly with `%%run_aseba`:"
   ]
  },
  {
   "cell_type": "code",
   "execution_count": null,
   "metadata": {
    "ExecuteTime": {
     "end_time": "2021-09-29T09:01:07.585346Z",
     "start_time": "2021-09-29T09:01:07.329033Z"
    }
   },
   "outputs": [],
   "source": [
    "%%run_aseba\n",
    "var v[] = [32, 32, 32, 0, 0, 0, 32, 32]\n",
    "leds.circle = v"
   ]
  },
  {
   "cell_type": "markdown",
   "metadata": {},
   "source": [
    "`%%transpile_to_aseba` allows you to see how the python code you wrote is transpiled in Aseba:"
   ]
  },
  {
   "cell_type": "code",
   "execution_count": null,
   "metadata": {
    "ExecuteTime": {
     "end_time": "2021-09-29T09:01:07.841661Z",
     "start_time": "2021-09-29T09:01:07.828696Z"
    }
   },
   "outputs": [],
   "source": [
    "%%transpile_to_aseba\n",
    "v = [30, 0, 32, 0, 32, 0, 32, 0]\n",
    "leds_circle = v"
   ]
  },
  {
   "cell_type": "markdown",
   "metadata": {},
   "source": [
    "## Events "
   ]
  },
  {
   "cell_type": "markdown",
   "metadata": {},
   "source": [
    "> Aseba is an event-based architecture, which means that events trigger code execution asynchronously.\n",
    "Events can be external, for instance a user-defined event coming from another Aseba node, or internal, for instance emitted by a sensor that provides updated data. from http://wiki.thymio.org/en:asebalanguage#toc15"
   ]
  },
  {
   "cell_type": "markdown",
   "metadata": {},
   "source": [
    "In python, we can decorate a function with `@onevent`. This will result in the execution of the function every time the event is triggered. Here, the event **prox** is generated after every update by the Thymio of the proximity sensors, with a frequency of 10 Hz. Also, please note that the variables are all global in Aseba, you should not forget to declare global variables at the beginning of each function. If you don't, your python code transpiled could modify a local variable in a function, and not the desired variable `motor_left_target` for example."
   ]
  },
  {
   "cell_type": "code",
   "execution_count": null,
   "metadata": {
    "ExecuteTime": {
     "end_time": "2021-09-29T09:01:09.833332Z",
     "start_time": "2021-09-29T09:01:09.478282Z"
    }
   },
   "outputs": [],
   "source": [
    "%%run_python\n",
    "\n",
    "@onevent\n",
    "def prox():\n",
    "    global prox_horizontal, motor_left_target, motor_right_target\n",
    "    prox_front = prox_horizontal[2]\n",
    "    speed = -prox_front // 10\n",
    "    motor_left_target = speed\n",
    "    motor_right_target = speed"
   ]
  },
  {
   "cell_type": "markdown",
   "metadata": {},
   "source": [
    "## Use print statements in Python programs running on Thymio"
   ]
  },
  {
   "cell_type": "markdown",
   "metadata": {},
   "source": [
    "It's also possible to use `print` statements in Python programs running on the Thymio. They're converted to events: the Thymio sends the numeric values, which can be the result of any expressions, and the notebook on the computer receives them and combines them with constant string arguments of print and displays the result.\n",
    "\n",
    "Instead of just `%%run_python`, the program cell must begin with `%%run_python --wait` in order to run as long as required to process events. If you do not want to wait until the end of the execution you can force stop by clicking on the Stop button of Jupyter (interrupt the kernel)."
   ]
  },
  {
   "cell_type": "code",
   "execution_count": null,
   "metadata": {
    "ExecuteTime": {
     "end_time": "2021-09-29T09:01:18.051340Z",
     "start_time": "2021-09-29T09:01:11.382187Z"
    }
   },
   "outputs": [],
   "source": [
    "%%run_python --wait\n",
    "\n",
    "i = 0\n",
    "\n",
    "timer_period[0] = 1000\n",
    "\n",
    "@onevent\n",
    "def timer0():\n",
    "    global i, leds_top\n",
    "    i += 1\n",
    "    is_odd = i % 2 == 1\n",
    "    if is_odd:\n",
    "        print(i, \"odd\")\n",
    "        leds_top = [0, 32, 32]\n",
    "    else:\n",
    "        print(i, \"even\")\n",
    "        leds_top = [0, 0, 0]\n",
    "        \n",
    "    if i> 5:\n",
    "        exit()"
   ]
  },
  {
   "cell_type": "markdown",
   "metadata": {},
   "source": [
    "## Advanced concept: custom events"
   ]
  },
  {
   "cell_type": "markdown",
   "metadata": {},
   "source": [
    "You can send events from the notebook to the robot. This can be useful for instance if you implement a low-level behavior on the robot, such as obstacle avoidance and sensor acquisition, and send at a lower rate high-level commands which require more computing power available only on the PC."
   ]
  },
  {
   "cell_type": "markdown",
   "metadata": {},
   "source": [
    "The Thymio program below listens for events named `color` and changes the top RGB led color based on a single number. Bits 0, 1 and 2 represents the red, green, and blue components respectively."
   ]
  },
  {
   "cell_type": "code",
   "execution_count": null,
   "metadata": {
    "ExecuteTime": {
     "end_time": "2021-09-29T09:01:21.408356Z",
     "start_time": "2021-09-29T09:01:21.067269Z"
    }
   },
   "outputs": [],
   "source": [
    "%%run_python\n",
    "\n",
    "@onevent\n",
    "def color(c):\n",
    "    global leds_top\n",
    "    leds_top[0] = 32 if c & 1 else 0\n",
    "    leds_top[1] = 32 if c & 2 else 0\n",
    "    leds_top[2] = 32 if c & 4 else 0"
   ]
  },
  {
   "cell_type": "markdown",
   "metadata": {},
   "source": [
    "Now that the program runs on the robot, we can send it `color` events. The number of values in `send_event` should match the `@onevent` declaration. They can be passed as numeric arguments or as arrays."
   ]
  },
  {
   "cell_type": "code",
   "execution_count": null,
   "metadata": {
    "ExecuteTime": {
     "end_time": "2021-09-29T09:01:27.196867Z",
     "start_time": "2021-09-29T09:01:23.077890Z"
    }
   },
   "outputs": [],
   "source": [
    "for col in range(8):\n",
    "    send_event(\"color\", col)\n",
    "    sleep(0.5)"
   ]
  },
  {
   "cell_type": "markdown",
   "metadata": {
    "ExecuteTime": {
     "end_time": "2021-09-29T08:41:09.198901Z",
     "start_time": "2021-09-29T08:41:09.180948Z"
    }
   },
   "source": [
    "It is also possible to *collect data from the robot using custom events*. You can have a look here https://pypi.org/project/tdmclient/#description (search custom events, at the very end of the tutorial)."
   ]
  },
  {
   "cell_type": "markdown",
   "metadata": {},
   "source": [
    "Finally, you can stop the notebook environment, in order to unlock the robot. This will be very useful as we are going to use another method in the next part of the tutorial."
   ]
  },
  {
   "cell_type": "code",
   "execution_count": null,
   "metadata": {
    "ExecuteTime": {
     "end_time": "2021-09-29T09:01:29.130692Z",
     "start_time": "2021-09-29T09:01:29.000043Z"
    }
   },
   "outputs": [],
   "source": [
    "await tdmclient.notebook.stop()"
   ]
  },
  {
   "cell_type": "markdown",
   "metadata": {},
   "source": [
    "# Interactive Python Control using ClientAsync"
   ]
  },
  {
   "cell_type": "markdown",
   "metadata": {},
   "source": [
    "First, we are going to use Python, executed on our computer, to give instructions to the Thymio.\n",
    "One particular useful class is called `ClientAsync`, and we will understand some of its features:"
   ]
  },
  {
   "cell_type": "code",
   "execution_count": null,
   "metadata": {
    "ExecuteTime": {
     "end_time": "2021-09-29T09:01:33.567818Z",
     "start_time": "2021-09-29T09:01:33.548869Z"
    }
   },
   "outputs": [],
   "source": [
    "from tdmclient import ClientAsync, aw"
   ]
  },
  {
   "cell_type": "markdown",
   "metadata": {},
   "source": [
    "## Connect your Thymio"
   ]
  },
  {
   "cell_type": "code",
   "execution_count": null,
   "metadata": {
    "ExecuteTime": {
     "end_time": "2021-09-29T09:01:35.021927Z",
     "start_time": "2021-09-29T09:01:35.008963Z"
    }
   },
   "outputs": [],
   "source": [
    "#Create a Client Object:\n",
    "client = ClientAsync()"
   ]
  },
  {
   "cell_type": "markdown",
   "metadata": {
    "ExecuteTime": {
     "end_time": "2021-09-21T16:43:09.948586Z",
     "start_time": "2021-09-21T16:43:09.941557Z"
    }
   },
   "source": [
    "## Check the connexion"
   ]
  },
  {
   "cell_type": "markdown",
   "metadata": {
    "ExecuteTime": {
     "end_time": "2021-09-06T09:50:30.654495Z",
     "start_time": "2021-09-06T09:50:30.638874Z"
    }
   },
   "source": [
    "The client will connect to the TDM (Thymio Device Manager) which will send messages to us, such as one to announce the existence of a robot:"
   ]
  },
  {
   "cell_type": "code",
   "execution_count": null,
   "metadata": {
    "ExecuteTime": {
     "end_time": "2021-09-29T09:01:37.732674Z",
     "start_time": "2021-09-29T09:01:37.723699Z"
    }
   },
   "outputs": [],
   "source": [
    "client.process_waiting_messages()"
   ]
  },
  {
   "cell_type": "markdown",
   "metadata": {},
   "source": [
    "The value of `node` is an object which contains some properties related to the robot and let you communicate with it. We can called the node explicitely, its _id_ is displayed when you just print the node:"
   ]
  },
  {
   "cell_type": "code",
   "execution_count": null,
   "metadata": {
    "ExecuteTime": {
     "end_time": "2021-09-29T09:01:39.186783Z",
     "start_time": "2021-09-29T09:01:39.176809Z"
    }
   },
   "outputs": [],
   "source": [
    "node = client.nodes[0]\n",
    "node"
   ]
  },
  {
   "cell_type": "code",
   "execution_count": null,
   "metadata": {
    "ExecuteTime": {
     "end_time": "2021-09-29T09:01:39.860978Z",
     "start_time": "2021-09-29T09:01:39.843027Z"
    }
   },
   "outputs": [],
   "source": [
    "print(node)"
   ]
  },
  {
   "cell_type": "markdown",
   "metadata": {},
   "source": [
    "## Load an Aseba program on the Thymio"
   ]
  },
  {
   "cell_type": "markdown",
   "metadata": {},
   "source": [
    "A very useful method will allow you to `lock` the robot, so you will be able to change its variables and run programs. Beware that the robot **should no be already locked in Thymio Suite.**"
   ]
  },
  {
   "cell_type": "code",
   "execution_count": null,
   "metadata": {
    "ExecuteTime": {
     "end_time": "2021-09-29T09:02:13.517914Z",
     "start_time": "2021-09-29T09:02:13.328421Z"
    }
   },
   "outputs": [],
   "source": [
    "aw(node.lock())"
   ]
  },
  {
   "cell_type": "markdown",
   "metadata": {},
   "source": [
    "We will then use a little Aseba program, to make the top led of the Thymio blink:"
   ]
  },
  {
   "cell_type": "code",
   "execution_count": null,
   "metadata": {
    "ExecuteTime": {
     "end_time": "2021-09-29T09:02:14.980002Z",
     "start_time": "2021-09-29T09:02:14.838381Z"
    }
   },
   "outputs": [],
   "source": [
    "program = \"\"\"\n",
    "var on = 0  # 0=off, 1=on\n",
    "timer.period[0] = 500\n",
    "\n",
    "onevent timer0\n",
    "    on = 1 - on  # \"on = not on\" with a syntax Aseba accepts\n",
    "    leds.top = [32 * on, 32 * on, 0]\n",
    "\"\"\"\n",
    "r = aw(node.compile(program))"
   ]
  },
  {
   "cell_type": "markdown",
   "metadata": {},
   "source": [
    "*The variable `r` will store the result of the call: `None` if the operation was sucessful, an error number otherwise.*"
   ]
  },
  {
   "cell_type": "code",
   "execution_count": null,
   "metadata": {
    "ExecuteTime": {
     "end_time": "2021-09-29T09:02:15.872613Z",
     "start_time": "2021-09-29T09:02:15.744955Z"
    }
   },
   "outputs": [],
   "source": [
    "#Run the program that is already compiled:\n",
    "aw(node.run())"
   ]
  },
  {
   "cell_type": "code",
   "execution_count": null,
   "metadata": {
    "ExecuteTime": {
     "end_time": "2021-09-29T09:02:16.116959Z",
     "start_time": "2021-09-29T09:02:15.985312Z"
    }
   },
   "outputs": [],
   "source": [
    "aw(node.stop())"
   ]
  },
  {
   "cell_type": "markdown",
   "metadata": {},
   "source": [
    "We can write some text in the Aseba Studio (we can use it to only *observe* the behavior of the robot):"
   ]
  },
  {
   "cell_type": "code",
   "execution_count": null,
   "metadata": {
    "ExecuteTime": {
     "end_time": "2021-09-29T09:02:16.748269Z",
     "start_time": "2021-09-29T09:02:16.622607Z"
    }
   },
   "outputs": [],
   "source": [
    "aw(node.set_scratchpad(\"Hello, Studio!\"))"
   ]
  },
  {
   "cell_type": "markdown",
   "metadata": {},
   "source": [
    "## Passing values to the Thymio (option 2)"
   ]
  },
  {
   "cell_type": "markdown",
   "metadata": {},
   "source": [
    "Change the speed:"
   ]
  },
  {
   "cell_type": "code",
   "execution_count": null,
   "metadata": {
    "ExecuteTime": {
     "end_time": "2021-09-29T09:02:17.984963Z",
     "start_time": "2021-09-29T09:02:17.839351Z"
    }
   },
   "outputs": [],
   "source": [
    "v = {\n",
    "    \"motor.left.target\": [50],\n",
    "    \"motor.right.target\": [50],\n",
    "}\n",
    "aw(node.set_variables(v))"
   ]
  },
  {
   "cell_type": "code",
   "execution_count": null,
   "metadata": {
    "ExecuteTime": {
     "end_time": "2021-09-29T09:02:18.603306Z",
     "start_time": "2021-09-29T09:02:18.476645Z"
    }
   },
   "outputs": [],
   "source": [
    "v = {\n",
    "    \"motor.left.target\": [0],\n",
    "    \"motor.right.target\": [0],\n",
    "}\n",
    "aw(node.set_variables(v))"
   ]
  },
  {
   "cell_type": "code",
   "execution_count": null,
   "metadata": {
    "ExecuteTime": {
     "end_time": "2021-09-29T09:02:19.251571Z",
     "start_time": "2021-09-29T09:02:19.126905Z"
    }
   },
   "outputs": [],
   "source": [
    "#Now unlock the robot:\n",
    "aw(node.unlock())"
   ]
  },
  {
   "cell_type": "markdown",
   "metadata": {},
   "source": [
    "## Reading values from Thymio sensors (option 2)"
   ]
  },
  {
   "cell_type": "markdown",
   "metadata": {},
   "source": [
    "Here you can see how to read the values of the horizontal proximity sensors 10 times with a frequency of 5Hz (once every 0.2s):"
   ]
  },
  {
   "cell_type": "code",
   "execution_count": null,
   "metadata": {
    "ExecuteTime": {
     "end_time": "2021-09-29T09:02:23.246880Z",
     "start_time": "2021-09-29T09:02:21.100623Z"
    }
   },
   "outputs": [],
   "source": [
    "await node.wait_for_variables({\"prox.horizontal\"})\n",
    "for i in range(10):\n",
    "    print(list(node.v.prox.horizontal))\n",
    "    await client.sleep(0.2)"
   ]
  },
  {
   "cell_type": "markdown",
   "metadata": {},
   "source": [
    "As you can observe, we are able to obtain updated values here, as it was not possible in option 1."
   ]
  },
  {
   "cell_type": "markdown",
   "metadata": {
    "ExecuteTime": {
     "end_time": "2021-09-28T14:20:25.764282Z",
     "start_time": "2021-09-28T14:20:25.753091Z"
    }
   },
   "source": [
    "## Connection summary using tdmclient"
   ]
  },
  {
   "cell_type": "markdown",
   "metadata": {
    "ExecuteTime": {
     "end_time": "2021-09-06T08:55:28.442942Z",
     "start_time": "2021-09-06T08:55:28.405120Z"
    }
   },
   "source": [
    "Next time you need to use tdmclient ClientAsync and its methods, the simpler way is to use the following code, at the begining of your notebook:"
   ]
  },
  {
   "cell_type": "raw",
   "metadata": {
    "ExecuteTime": {
     "end_time": "2021-09-22T13:54:01.949580Z",
     "start_time": "2021-09-22T13:53:59.457714Z"
    }
   },
   "source": [
    "from tdmclient import ClientAsync\n",
    "client = ClientAsync()\n",
    "node = await client.wait_for_node()\n",
    "await node.lock()"
   ]
  },
  {
   "cell_type": "markdown",
   "metadata": {},
   "source": [
    "# Optional: more about tdmclient and ClientAsync"
   ]
  },
  {
   "cell_type": "markdown",
   "metadata": {},
   "source": [
    "This section will help you to understand better other functionalities that **would not be required for the exercise sessions, but could be useful for the project for example.**"
   ]
  },
  {
   "cell_type": "markdown",
   "metadata": {},
   "source": [
    "## List of accessible methods"
   ]
  },
  {
   "cell_type": "markdown",
   "metadata": {
    "ExecuteTime": {
     "end_time": "2021-08-30T11:10:02.979522Z",
     "start_time": "2021-08-30T11:10:02.963895Z"
    }
   },
   "source": [
    "The object `node` has multiple properties that we can access:"
   ]
  },
  {
   "cell_type": "code",
   "execution_count": null,
   "metadata": {
    "ExecuteTime": {
     "end_time": "2021-09-29T09:02:32.363487Z",
     "start_time": "2021-09-29T09:02:32.352515Z"
    }
   },
   "outputs": [],
   "source": [
    "node.props"
   ]
  },
  {
   "cell_type": "markdown",
   "metadata": {},
   "source": [
    "We can also use the command `dir()` to get the list of the instances (object attributes) of `node`. We will learn how to use some of the methods which are contained in the list:"
   ]
  },
  {
   "cell_type": "code",
   "execution_count": null,
   "metadata": {
    "ExecuteTime": {
     "end_time": "2021-09-29T09:02:33.433621Z",
     "start_time": "2021-09-29T09:02:33.421653Z"
    },
    "scrolled": true
   },
   "outputs": [],
   "source": [
    "dir(node)"
   ]
  },
  {
   "cell_type": "markdown",
   "metadata": {},
   "source": [
    "We are going to first have a look at `var`:"
   ]
  },
  {
   "cell_type": "code",
   "execution_count": null,
   "metadata": {
    "ExecuteTime": {
     "end_time": "2021-09-29T09:02:38.863094Z",
     "start_time": "2021-09-29T09:02:38.848132Z"
    }
   },
   "outputs": [],
   "source": [
    "node.var"
   ]
  },
  {
   "cell_type": "markdown",
   "metadata": {},
   "source": [
    "It is empty right now, we should use first the method `wait_for_variables()`:"
   ]
  },
  {
   "cell_type": "code",
   "execution_count": null,
   "metadata": {
    "ExecuteTime": {
     "end_time": "2021-09-29T09:02:41.136010Z",
     "start_time": "2021-09-29T09:02:41.119055Z"
    }
   },
   "outputs": [],
   "source": [
    "# Get the documentation of a method using __doc__\n",
    "node.wait_for_variables.__doc__"
   ]
  },
  {
   "cell_type": "code",
   "execution_count": null,
   "metadata": {
    "ExecuteTime": {
     "end_time": "2021-09-29T09:02:42.053555Z",
     "start_time": "2021-09-29T09:02:41.745380Z"
    }
   },
   "outputs": [],
   "source": [
    "aw(node.wait_for_variables())\n",
    "node.var"
   ]
  },
  {
   "cell_type": "markdown",
   "metadata": {},
   "source": [
    "Buy using `node.var`, we can understand what the different read-write variables that you can access are. You need to know the name and size of the variables that you are interested in."
   ]
  },
  {
   "cell_type": "markdown",
   "metadata": {},
   "source": [
    "## What is asynchronous programming?"
   ]
  },
  {
   "cell_type": "markdown",
   "metadata": {},
   "source": [
    "We can also call an **asynchronous** function in such a way that **its result is waited for**. This can be done in a *coroutine*, a special function which is executed at the same time as other tasks your program must perform, with the `await` Python keyword; or handled by the helper function `aw`. Keyword await is valid only in a function (or program), hence we cannot call it directly from the Python prompt."
   ]
  },
  {
   "cell_type": "markdown",
   "metadata": {
    "ExecuteTime": {
     "end_time": "2021-09-06T08:37:36.790787Z",
     "start_time": "2021-09-06T08:37:36.775167Z"
    }
   },
   "source": [
    ">An asynchronous program behaves differently. It still takes one execution step at a time. The difference is that the system may not wait for an execution step to be completed before moving on to the next one. This means that the program will move on to future execution steps even though a previous step hasn’t yet finished and is still running elsewhere. This also means that the program knows what to do when a previous step does finish running. from https://realpython.com/python-async-features/#understanding-asynchronous-programming"
   ]
  },
  {
   "cell_type": "markdown",
   "metadata": {},
   "source": [
    ">In the asynchronous world, things change around a bit. Everything runs on a central event loop, which is a bit of core code that lets you run several coroutines at once. Coroutines run synchronously until they hit an await and then they pause, give up control to the event loop, and something else can happen. from https://www.aeracode.org/2018/02/19/python-async-simplified/"
   ]
  },
  {
   "cell_type": "markdown",
   "metadata": {},
   "source": [
    "## How to create events"
   ]
  },
  {
   "cell_type": "markdown",
   "metadata": {},
   "source": [
    "\n",
    "Now we are going to see how to create an event:"
   ]
  },
  {
   "cell_type": "code",
   "execution_count": null,
   "metadata": {
    "ExecuteTime": {
     "end_time": "2021-09-29T09:02:49.707074Z",
     "start_time": "2021-09-29T09:02:49.429816Z"
    }
   },
   "outputs": [],
   "source": [
    "aw(node.lock())\n",
    "# Create an event named speed, with a size of data of 2 (should be between 0-32)\n",
    "aw(node.register_events([(\"speed\", 2)]))"
   ]
  },
  {
   "cell_type": "code",
   "execution_count": null,
   "metadata": {
    "ExecuteTime": {
     "end_time": "2021-09-29T09:02:51.606990Z",
     "start_time": "2021-09-29T09:02:51.362644Z"
    }
   },
   "outputs": [],
   "source": [
    "# The event data are obtained from variable event.args:\n",
    "program = \"\"\"\n",
    "onevent speed\n",
    "    motor.left.target = event.args[0]\n",
    "    motor.right.target = event.args[1]\n",
    "\"\"\"\n",
    "aw(node.compile(program))\n",
    "aw(node.run())"
   ]
  },
  {
   "cell_type": "markdown",
   "metadata": {},
   "source": [
    "`node.send_events` has one argument, a dict where keys correspond to event names and values to event data."
   ]
  },
  {
   "cell_type": "code",
   "execution_count": null,
   "metadata": {
    "ExecuteTime": {
     "end_time": "2021-09-29T09:03:01.927373Z",
     "start_time": "2021-09-29T09:03:00.602918Z"
    }
   },
   "outputs": [],
   "source": [
    "# turn right\n",
    "aw(node.send_events({\"speed\": [40, 20]}))\n",
    "# wait 1 second\n",
    "aw(client.sleep(1))\n",
    "# stop the robot\n",
    "aw(node.send_events({\"speed\": [0, 0]}))"
   ]
  },
  {
   "cell_type": "code",
   "execution_count": null,
   "metadata": {
    "ExecuteTime": {
     "end_time": "2021-09-29T09:03:02.847910Z",
     "start_time": "2021-09-29T09:03:02.698311Z"
    }
   },
   "outputs": [],
   "source": [
    "aw(node.unlock())"
   ]
  },
  {
   "cell_type": "markdown",
   "metadata": {},
   "source": [
    "## Python program (.py)"
   ]
  },
  {
   "cell_type": "markdown",
   "metadata": {},
   "source": [
    "You can open any software that can edit and run python files, such as PyCharm. Then have a look at the exemples \"move.py\" and \"basic_obstacle_avoidance.py\", in the folder **src**.\n",
    "\n",
    "It is possible to run a python file in the notebook, with the following command line:"
   ]
  },
  {
   "cell_type": "code",
   "execution_count": null,
   "metadata": {
    "ExecuteTime": {
     "end_time": "2021-09-29T09:03:21.438164Z",
     "start_time": "2021-09-29T09:03:17.234412Z"
    }
   },
   "outputs": [],
   "source": [
    "!python3 src/move.py"
   ]
  },
  {
   "cell_type": "markdown",
   "metadata": {},
   "source": [
    "The code in move.py code could be simplified with the help of `with` constructs:"
   ]
  },
  {
   "cell_type": "raw",
   "metadata": {},
   "source": [
    "from tdmclient import ClientAsync\n",
    "\n",
    "def motors(left, right):\n",
    "    return {\n",
    "        \"motor.left.target\": [left],\n",
    "        \"motor.right.target\": [right],\n",
    "    }\n",
    "\n",
    "with ClientAsync() as client:\n",
    "    async def prog():\n",
    "        with await client.lock() as node:\n",
    "            await node.set_variables(motors(50, 50))\n",
    "            await client.sleep(2)\n",
    "            await node.set_variables(motors(0, 0))\n",
    "    client.run_async_program(prog)"
   ]
  },
  {
   "cell_type": "markdown",
   "metadata": {},
   "source": [
    "To read variables, the updates must be observed with a function.  The following program calculates a motor speed based on the front proximity sensor to move backward when it detects an obstacle. Instead of calling the async method `set_variables` which expects a result code in a message from the TDM, it just sends a message to change variables with `send_set_variables` without expecting any reply."
   ]
  },
  {
   "cell_type": "markdown",
   "metadata": {},
   "source": [
    "> Try \"basic_obstacle_avoidance.py\" using PyCharm. You can still see the code above:"
   ]
  },
  {
   "cell_type": "raw",
   "metadata": {},
   "source": [
    "from tdmclient import ClientAsync\n",
    "\n",
    "def motors(left, right):\n",
    "    return {\n",
    "        \"motor.left.target\": [left],\n",
    "        \"motor.right.target\": [right],\n",
    "    }\n",
    "\n",
    "def on_variables_changed(node, variables):\n",
    "    try:\n",
    "        prox = variables[\"prox.horizontal\"]\n",
    "        prox_front = prox[2]\n",
    "        speed = -prox_front // 10\n",
    "        node.send_set_variables(motors(speed, speed))\n",
    "    except KeyError:\n",
    "        pass  # prox.horizontal not found\n",
    "\n",
    "with ClientAsync() as client:\n",
    "    async def prog():\n",
    "        with await client.lock() as node:\n",
    "            await node.watch(variables=True)\n",
    "            node.add_variables_changed_listener(on_variables_changed)\n",
    "            await client.sleep()\n",
    "    client.run_async_program(prog)"
   ]
  },
  {
   "cell_type": "markdown",
   "metadata": {},
   "source": [
    "Make sure you don't keep the robot locked, you wouldn't be able to lock it a second time. Quitting and restarting Python is a sure way to start from a clean state. You can use the circular arrow in the notebook to restart the kernel."
   ]
  },
  {
   "cell_type": "markdown",
   "metadata": {},
   "source": [
    "## Cached variables"
   ]
  },
  {
   "cell_type": "markdown",
   "metadata": {},
   "source": [
    "Thymio variables are also accessible simply as `node.v.variable_name` or `node[\"variable_name\"]`. It is then possible to get or set values, but it is slightly slower than previously."
   ]
  },
  {
   "cell_type": "code",
   "execution_count": null,
   "metadata": {
    "ExecuteTime": {
     "end_time": "2021-09-28T14:26:42.699666Z",
     "start_time": "2021-09-28T14:26:42.686709Z"
    }
   },
   "outputs": [],
   "source": [
    "#from tdmclient import ClientAsync\n",
    "#client = ClientAsync()"
   ]
  },
  {
   "cell_type": "code",
   "execution_count": null,
   "metadata": {
    "ExecuteTime": {
     "end_time": "2021-09-29T09:03:25.580082Z",
     "start_time": "2021-09-29T09:03:25.564122Z"
    }
   },
   "outputs": [],
   "source": [
    "#node = client.aw(client.wait_for_node())\n",
    "client.aw(node.wait_for_variables({\"leds.top\"}))"
   ]
  },
  {
   "cell_type": "code",
   "execution_count": null,
   "metadata": {
    "ExecuteTime": {
     "end_time": "2021-09-29T09:03:26.526547Z",
     "start_time": "2021-09-29T09:03:26.506600Z"
    }
   },
   "outputs": [],
   "source": [
    "rgb = node.v.leds.top\n",
    "rgb"
   ]
  },
  {
   "cell_type": "code",
   "execution_count": null,
   "metadata": {
    "ExecuteTime": {
     "end_time": "2021-09-29T09:03:27.355329Z",
     "start_time": "2021-09-29T09:03:27.336380Z"
    }
   },
   "outputs": [],
   "source": [
    "list(rgb)"
   ]
  },
  {
   "cell_type": "code",
   "execution_count": null,
   "metadata": {
    "ExecuteTime": {
     "end_time": "2021-09-29T09:03:29.188425Z",
     "start_time": "2021-09-29T09:03:28.821406Z"
    }
   },
   "outputs": [],
   "source": [
    " client.aw(node.lock_node())"
   ]
  },
  {
   "cell_type": "code",
   "execution_count": null,
   "metadata": {
    "ExecuteTime": {
     "end_time": "2021-09-29T09:03:29.776849Z",
     "start_time": "2021-09-29T09:03:29.758899Z"
    }
   },
   "outputs": [],
   "source": [
    "rgb[0] = 32  # red"
   ]
  },
  {
   "cell_type": "code",
   "execution_count": null,
   "metadata": {
    "ExecuteTime": {
     "end_time": "2021-09-29T09:03:30.423121Z",
     "start_time": "2021-09-29T09:03:30.414145Z"
    }
   },
   "outputs": [],
   "source": [
    "node.var_to_send"
   ]
  },
  {
   "cell_type": "code",
   "execution_count": null,
   "metadata": {
    "ExecuteTime": {
     "end_time": "2021-09-29T09:03:31.899170Z",
     "start_time": "2021-09-29T09:03:31.866260Z"
    }
   },
   "outputs": [],
   "source": [
    "node.flush()"
   ]
  },
  {
   "cell_type": "markdown",
   "metadata": {},
   "source": [
    "Setting an element caches the value so that it will be sent to the robot by the next call to `node.flush()`"
   ]
  },
  {
   "cell_type": "code",
   "execution_count": null,
   "metadata": {
    "ExecuteTime": {
     "end_time": "2021-09-29T09:03:33.404143Z",
     "start_time": "2021-09-29T09:03:33.268506Z"
    }
   },
   "outputs": [],
   "source": [
    "aw(node.unlock())"
   ]
  },
  {
   "cell_type": "markdown",
   "metadata": {},
   "source": [
    "By using that way to access variables, the basic obstacle avoidance code seen in the previous section could be replaced by this:"
   ]
  },
  {
   "cell_type": "raw",
   "metadata": {},
   "source": [
    "from tdmclient import ClientAsync\n",
    "\n",
    "with ClientAsync() as client:\n",
    "    async def prog():\n",
    "        with await client.lock() as node:\n",
    "            await node.wait_for_variables({\"prox.horizontal\"})\n",
    "            while True:\n",
    "                prox_front = node.v.prox.horizontal[2]\n",
    "                speed = -prox_front // 10\n",
    "                node.v.motor.left.target = speed\n",
    "                node.v.motor.right.target = speed\n",
    "                node.flush()\n",
    "                await client.sleep(0.1)\n",
    "    client.run_async_program(prog)"
   ]
  },
  {
   "cell_type": "markdown",
   "metadata": {},
   "source": [
    "## Executing a program on the Thymio"
   ]
  },
  {
   "cell_type": "markdown",
   "metadata": {},
   "source": [
    "### Directly using clientAsync "
   ]
  },
  {
   "cell_type": "markdown",
   "metadata": {},
   "source": [
    "You could save it as a .py file and run it with tdmclient.tools.run as explained above. If you want to do everything yourself, to understand precisely how tdmclient works or because you want to eventually combine processing on the Thymio and on your computer, here is a Python program running on the PC to convert it to Aseba, compile and load it, and run it."
   ]
  },
  {
   "cell_type": "code",
   "execution_count": null,
   "metadata": {
    "ExecuteTime": {
     "end_time": "2021-09-29T09:03:45.258421Z",
     "start_time": "2021-09-29T09:03:40.579941Z"
    }
   },
   "outputs": [],
   "source": [
    "from tdmclient import ClientAsync\n",
    "from tdmclient.atranspiler import ATranspiler\n",
    "\n",
    "thymio_program_python = r\"\"\"\n",
    "@onevent\n",
    "def prox():\n",
    "    global prox_horizontal, motor_left_target, motor_right_target\n",
    "    prox_front = prox_horizontal[2]\n",
    "    speed = -prox_front // 10\n",
    "    motor_left_target = speed\n",
    "    motor_right_target = speed\n",
    "\"\"\"\n",
    "\n",
    "# convert program from Python to Aseba\n",
    "thymio_program_aseba = ATranspiler.simple_transpile(thymio_program_python)\n",
    "\n",
    "with ClientAsync() as client:\n",
    "    async def prog():\n",
    "        with await client.lock() as node:\n",
    "            error = await node.compile(thymio_program_aseba)\n",
    "            error = await node.run()\n",
    "    await prog()"
   ]
  },
  {
   "cell_type": "markdown",
   "metadata": {},
   "source": [
    "### Using an ASEBA file with tdmclient.tools.run"
   ]
  },
  {
   "cell_type": "markdown",
   "metadata": {
    "ExecuteTime": {
     "end_time": "2021-08-29T10:21:38.354328Z",
     "start_time": "2021-08-29T10:21:38.339955Z"
    }
   },
   "source": [
    "Execute an Aseba program on the Thymio:\n",
    "\n",
    "In this example, we are going to program the blink.aseba program on the thymio using the following command"
   ]
  },
  {
   "cell_type": "code",
   "execution_count": null,
   "metadata": {
    "ExecuteTime": {
     "end_time": "2021-09-29T09:03:55.211788Z",
     "start_time": "2021-09-29T09:03:53.050571Z"
    }
   },
   "outputs": [],
   "source": [
    "!python3 -m tdmclient.tools.run --scratchpad src/blink.aseba"
   ]
  },
  {
   "cell_type": "markdown",
   "metadata": {},
   "source": [
    "The option `--scratchpad` allow the code to be also displayed in the Aseba Studio (where you are able to observe some fetaures of the robot). \n",
    "\n",
    "And then you can stop it:"
   ]
  },
  {
   "cell_type": "code",
   "execution_count": null,
   "metadata": {
    "ExecuteTime": {
     "end_time": "2021-09-29T09:04:02.009596Z",
     "start_time": "2021-09-29T09:04:00.141596Z"
    }
   },
   "outputs": [],
   "source": [
    "!python3 -m tdmclient.tools.run --stop"
   ]
  },
  {
   "cell_type": "markdown",
   "metadata": {},
   "source": [
    "### Using a python file with tdmclient.tools.run\n",
    "\n",
    "To avoid having to learn the Aseba language, it is now possible to program the robot with Python files. Note however that only a subset of Python functionalities can be used:"
   ]
  },
  {
   "cell_type": "markdown",
   "metadata": {},
   "source": [
    "*Note: it seems that this command will run forever, so if you want to test it, you should press the notebook button stop the kernel to stop the cell and be able to run the following ones. In the command lines just press Ctrl+C. It should be fixed soon in the next tdmclient version.*"
   ]
  },
  {
   "cell_type": "raw",
   "metadata": {
    "ExecuteTime": {
     "start_time": "2021-09-28T14:43:01.883Z"
    }
   },
   "source": [
    "!python3 -m tdmclient.tools.run --scratchpad src/blink.py"
   ]
  },
  {
   "cell_type": "markdown",
   "metadata": {},
   "source": [
    "Don't forget to stop it:"
   ]
  },
  {
   "cell_type": "raw",
   "metadata": {
    "ExecuteTime": {
     "start_time": "2021-09-28T14:28:02.765Z"
    }
   },
   "source": [
    "!python3 -m tdmclient.tools.run --stop"
   ]
  },
  {
   "cell_type": "markdown",
   "metadata": {},
   "source": [
    "# Performance comparison"
   ]
  },
  {
   "cell_type": "markdown",
   "metadata": {},
   "source": [
    "We are going to execute a simple code, showing the value of the proximity sensors on the leds.circle. To compare the performance of: coding in Aseba, in Python that will be transpiled, or in Python on your own machine, we will use `%%timeit`, that will execute the code several times and show the time of execution."
   ]
  },
  {
   "cell_type": "code",
   "execution_count": null,
   "metadata": {
    "ExecuteTime": {
     "end_time": "2021-09-29T09:04:12.123532Z",
     "start_time": "2021-09-29T09:04:09.445698Z"
    }
   },
   "outputs": [],
   "source": [
    "# Import tdmclient Notebooks environment:\n",
    "import tdmclient.notebook\n",
    "await tdmclient.notebook.start()"
   ]
  },
  {
   "cell_type": "markdown",
   "metadata": {},
   "source": [
    "## Aseba"
   ]
  },
  {
   "cell_type": "code",
   "execution_count": null,
   "metadata": {
    "ExecuteTime": {
     "end_time": "2021-09-29T09:04:15.675028Z",
     "start_time": "2021-09-29T09:04:13.811016Z"
    }
   },
   "outputs": [],
   "source": [
    "%%timeit\n",
    "%%run_aseba\n",
    "\n",
    "var a\n",
    "var _tmp[1]\n",
    "var i\n",
    "\n",
    "a = 0\n",
    "while a < 10 do\n",
    "    i = 0\n",
    "    while i < 7 do\n",
    "        leds.circle[i] = prox.horizontal[i]\n",
    "        i++\n",
    "    end\n",
    "    a++\n",
    "end"
   ]
  },
  {
   "cell_type": "markdown",
   "metadata": {},
   "source": [
    "## Python transpiled"
   ]
  },
  {
   "cell_type": "code",
   "execution_count": null,
   "metadata": {
    "ExecuteTime": {
     "end_time": "2021-09-29T09:04:19.437961Z",
     "start_time": "2021-09-29T09:04:17.547019Z"
    }
   },
   "outputs": [],
   "source": [
    "%%timeit\n",
    "%%run_python\n",
    "\n",
    "for a in range(10):\n",
    "    for i in range(7):\n",
    "        leds_circle[i] = prox_horizontal[i]"
   ]
  },
  {
   "cell_type": "code",
   "execution_count": null,
   "metadata": {
    "ExecuteTime": {
     "end_time": "2021-09-29T09:04:20.730500Z",
     "start_time": "2021-09-29T09:04:20.598853Z"
    }
   },
   "outputs": [],
   "source": [
    "await tdmclient.notebook.stop()"
   ]
  },
  {
   "cell_type": "markdown",
   "metadata": {},
   "source": [
    "## Python run on computer"
   ]
  },
  {
   "cell_type": "code",
   "execution_count": null,
   "metadata": {
    "ExecuteTime": {
     "end_time": "2021-09-29T09:04:24.556263Z",
     "start_time": "2021-09-29T09:04:22.200566Z"
    }
   },
   "outputs": [],
   "source": [
    "from tdmclient import ClientAsync, aw\n",
    "client = ClientAsync()\n",
    "node = await client.wait_for_node()\n",
    "await node.lock()"
   ]
  },
  {
   "cell_type": "code",
   "execution_count": null,
   "metadata": {
    "ExecuteTime": {
     "end_time": "2021-09-29T09:04:25.548607Z",
     "start_time": "2021-09-29T09:04:25.417957Z"
    }
   },
   "outputs": [],
   "source": [
    "leds = [0, 0, 0, 0, 0, 0, 0, 0]\n",
    "await node.wait_for_variables({\"prox.horizontal\"})"
   ]
  },
  {
   "cell_type": "code",
   "execution_count": null,
   "metadata": {
    "ExecuteTime": {
     "end_time": "2021-09-29T09:04:35.076112Z",
     "start_time": "2021-09-29T09:04:26.593813Z"
    }
   },
   "outputs": [],
   "source": [
    "%%timeit\n",
    "\n",
    "for i in range(10):\n",
    "    prox = list(node[\"prox.horizontal\"]) + [0]\n",
    "    leds = prox\n",
    "    v = {\"leds.circle\": leds,\n",
    "        }\n",
    "    aw(node.set_variables(v))"
   ]
  },
  {
   "cell_type": "code",
   "execution_count": null,
   "metadata": {},
   "outputs": [],
   "source": []
  }
 ],
 "metadata": {
  "hide_input": false,
  "kernelspec": {
   "display_name": "Python 3",
   "language": "python",
   "name": "python3"
  },
  "language_info": {
   "codemirror_mode": {
    "name": "ipython",
    "version": 3
   },
   "file_extension": ".py",
   "mimetype": "text/x-python",
   "name": "python",
   "nbconvert_exporter": "python",
   "pygments_lexer": "ipython3",
   "version": "3.7.3"
  },
  "toc": {
   "base_numbering": 1,
   "nav_menu": {},
   "number_sections": true,
   "sideBar": true,
   "skip_h1_title": false,
   "title_cell": "Table of Contents",
   "title_sidebar": "Contents",
   "toc_cell": false,
   "toc_position": {},
   "toc_section_display": true,
   "toc_window_display": false
  }
 },
 "nbformat": 4,
 "nbformat_minor": 4
}
