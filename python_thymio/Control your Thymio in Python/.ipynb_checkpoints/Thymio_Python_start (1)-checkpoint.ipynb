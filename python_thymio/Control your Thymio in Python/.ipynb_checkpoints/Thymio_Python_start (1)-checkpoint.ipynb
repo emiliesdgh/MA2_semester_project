{
 "cells": [
  {
   "cell_type": "markdown",
   "id": "b59f8d0a",
   "metadata": {},
   "source": [
    "# Getting started with Thymio II on Python\n",
    "\n",
    "\n",
    "This notebook will show you how to program Thymio with Python!\n",
    "\n",
    "Make sure you have installed Thymio Suite and the TDMclient package for Python 3.\n",
    "<a href=\"https://docs.google.com/document/d/1FzkSqMc2X7CaUtruix8a5oafpQnvmt_MrmXyYjcuuSg/edit?usp=sharing\" target=\"_blank\">See installation guide</a>\n",
    "\n",
    "Documentation about the TDMclient package is available at:\n",
    "https://pypi.org/project/tdmclient/\n"
   ]
  },
  {
   "cell_type": "markdown",
   "id": "3f741cdd",
   "metadata": {},
   "source": [
    "First, you need to make sure you have the latest version of TDMclient"
   ]
  },
  {
   "cell_type": "code",
   "execution_count": 1,
   "id": "28e0273d",
   "metadata": {
    "tags": []
   },
   "outputs": [
    {
     "name": "stdout",
     "output_type": "stream",
     "text": [
      "Requirement already up-to-date: tdmclient in /Users/laila-mobots/.virtualenvs/venv/lib/python3.7/site-packages (0.1.18)\n",
      "Requirement already satisfied, skipping upgrade: zeroconf in /Users/laila-mobots/.virtualenvs/venv/lib/python3.7/site-packages (from tdmclient) (0.36.4)\n",
      "Requirement already satisfied, skipping upgrade: websockets in /Users/laila-mobots/.virtualenvs/venv/lib/python3.7/site-packages (from tdmclient) (10.3)\n",
      "Requirement already satisfied, skipping upgrade: ifaddr>=0.1.7 in /Users/laila-mobots/.virtualenvs/venv/lib/python3.7/site-packages (from zeroconf->tdmclient) (0.1.7)\n",
      "\u001b[33mWARNING: You are using pip version 20.0.2; however, version 22.2.2 is available.\n",
      "You should consider upgrading via the '/Users/laila-mobots/.virtualenvs/venv/bin/python -m pip install --upgrade pip' command.\u001b[0m\n",
      "Note: you may need to restart the kernel to use updated packages.\n"
     ]
    }
   ],
   "source": [
    "%pip install --upgrade tdmclient"
   ]
  },
  {
   "cell_type": "markdown",
   "id": "59eccafc",
   "metadata": {},
   "source": [
    "Now, make sure you have a Thymio Device Manager running. Starting Thymio Suite will automatically start a Thymio Device Manager. Be sure to keep the Thymio Suite open to keep Thymio Device Manager running.\n",
    "Connect a robot or start a simulator."
   ]
  },
  {
   "cell_type": "markdown",
   "id": "f49a74b5-f458-4aba-9b27-f809421934eb",
   "metadata": {},
   "source": [
    "The following commands import the necessary classe from the tdmclient module, and then connects to an available robot to start synchronisation."
   ]
  },
  {
   "cell_type": "code",
   "execution_count": 4,
   "id": "bfbcd5ba",
   "metadata": {
    "scrolled": true
   },
   "outputs": [
    {
     "ename": "CancelledError",
     "evalue": "",
     "output_type": "error",
     "traceback": [
      "\u001b[0;31m---------------------------------------------------------------------------\u001b[0m",
      "\u001b[0;31mCancelledError\u001b[0m                            Traceback (most recent call last)",
      "\u001b[0;32m<ipython-input-4-f13d1c85ae32>\u001b[0m in \u001b[0;36masync-def-wrapper\u001b[0;34m()\u001b[0m\n",
      "\u001b[0;32m~/.virtualenvs/venv/lib/python3.7/site-packages/tdmclient/notebook/private.py\u001b[0m in \u001b[0;36mstart\u001b[0;34m(zeroconf, tdm_addr, tdm_port, password, debug, **kwargs)\u001b[0m\n\u001b[1;32m    106\u001b[0m                          \u001b[0mpassword\u001b[0m\u001b[0;34m=\u001b[0m\u001b[0mpassword\u001b[0m\u001b[0;34m,\u001b[0m\u001b[0;34m\u001b[0m\u001b[0;34m\u001b[0m\u001b[0m\n\u001b[1;32m    107\u001b[0m                          debug=debug)\n\u001b[0;32m--> 108\u001b[0;31m     \u001b[0mnode\u001b[0m \u001b[0;34m=\u001b[0m \u001b[0;32mawait\u001b[0m \u001b[0mclient\u001b[0m\u001b[0;34m.\u001b[0m\u001b[0mwait_for_node\u001b[0m\u001b[0;34m(\u001b[0m\u001b[0;34m**\u001b[0m\u001b[0mkwargs\u001b[0m\u001b[0;34m)\u001b[0m\u001b[0;34m\u001b[0m\u001b[0;34m\u001b[0m\u001b[0m\n\u001b[0m\u001b[1;32m    109\u001b[0m     \u001b[0;32mawait\u001b[0m \u001b[0mnode\u001b[0m\u001b[0;34m.\u001b[0m\u001b[0mlock\u001b[0m\u001b[0;34m(\u001b[0m\u001b[0;34m)\u001b[0m\u001b[0;34m\u001b[0m\u001b[0;34m\u001b[0m\u001b[0m\n\u001b[1;32m    110\u001b[0m \u001b[0;34m\u001b[0m\u001b[0m\n",
      "\u001b[0;32m~/.virtualenvs/venv/lib/python3.7/site-packages/tdmclient/clientasync.py\u001b[0m in \u001b[0;36mwait_for_node\u001b[0;34m(self, timeout, **kwargs)\u001b[0m\n\u001b[1;32m    104\u001b[0m                 \u001b[0msleep\u001b[0m\u001b[0;34m(\u001b[0m\u001b[0mself\u001b[0m\u001b[0;34m.\u001b[0m\u001b[0mDEFAULT_SLEEP\u001b[0m\u001b[0;34m)\u001b[0m\u001b[0;34m\u001b[0m\u001b[0;34m\u001b[0m\u001b[0m\n\u001b[1;32m    105\u001b[0m                 \u001b[0mtime\u001b[0m \u001b[0;34m+=\u001b[0m \u001b[0mself\u001b[0m\u001b[0;34m.\u001b[0m\u001b[0mDEFAULT_SLEEP\u001b[0m\u001b[0;34m\u001b[0m\u001b[0;34m\u001b[0m\u001b[0m\n\u001b[0;32m--> 106\u001b[0;31m             \u001b[0;32myield\u001b[0m\u001b[0;34m\u001b[0m\u001b[0;34m\u001b[0m\u001b[0m\n\u001b[0m\u001b[1;32m    107\u001b[0m \u001b[0;34m\u001b[0m\u001b[0m\n\u001b[1;32m    108\u001b[0m     \u001b[0;34m@\u001b[0m\u001b[0mtypes\u001b[0m\u001b[0;34m.\u001b[0m\u001b[0mcoroutine\u001b[0m\u001b[0;34m\u001b[0m\u001b[0;34m\u001b[0m\u001b[0m\n",
      "\u001b[0;31mCancelledError\u001b[0m: "
     ]
    }
   ],
   "source": [
    "import tdmclient.notebook\n",
    "await tdmclient.notebook.start()"
   ]
  },
  {
   "cell_type": "markdown",
   "id": "c8018199-7d73-44bc-874b-b2156d7056a8",
   "metadata": {},
   "source": [
    "Once this is done, we will be able to access the robot's variables as well as send whole programs to the TDM."
   ]
  },
  {
   "cell_type": "markdown",
   "id": "aa6d2c13",
   "metadata": {
    "tags": []
   },
   "source": [
    "## Controlling and programming Thymio from the notebook\n",
    "\n",
    "With the lines above, the internal variables of Thymio are synchronised to the variables available inside the notebook. The names are similar, with '.' replaced by '_' (because dots have a different meaning in Python). For example, the variable of the center front sensor, 'prox.horizontal[2]' becomes 'prox_horizontal[2]' and the variable to set the speed of the left motor 'motor.left.target' becomes 'motor_left_target'. \n"
   ]
  },
  {
   "cell_type": "markdown",
   "id": "7d1d0532-8f13-4cdc-9dcc-6999967430fa",
   "metadata": {},
   "source": [
    "Let's see this in an example of reading a variable. Execute the cell below a few times while moving your hand in front of the robot. You will see the printed value change."
   ]
  },
  {
   "cell_type": "code",
   "execution_count": null,
   "id": "45a7d702-c3be-457c-ab00-767402e2add1",
   "metadata": {},
   "outputs": [],
   "source": [
    "my_measure = prox_horizontal[2]\n",
    "print(my_measure)"
   ]
  },
  {
   "cell_type": "markdown",
   "id": "6d821eae-bd1a-4d13-9d6c-3dc55565d257",
   "metadata": {},
   "source": [
    "Now another example, this time setting a variable. Execute the first cell below, then the second one to set the motor speed."
   ]
  },
  {
   "cell_type": "code",
   "execution_count": null,
   "id": "4fb8ced1-e9ab-42df-9957-9c524202ce0e",
   "metadata": {},
   "outputs": [],
   "source": [
    "motor_left_target=100"
   ]
  },
  {
   "cell_type": "code",
   "execution_count": null,
   "id": "48308a2f-1045-4b6a-b8f9-038800880e18",
   "metadata": {},
   "outputs": [],
   "source": [
    "motor_left_target=0"
   ]
  },
  {
   "cell_type": "markdown",
   "id": "bb70912a-0193-4538-98ac-83f7b0919330",
   "metadata": {},
   "source": [
    "So far, we have only interacted with variables. It is also possible to  send a whole program to Thymio, written either in Aseba Python. Below, we'll give equivalent examples in both languages: change the robot's color depending on which button is touched. The first line %%run_aseba allows to send the content of the cell (aseba code) to the robot and run it."
   ]
  },
  {
   "cell_type": "code",
   "execution_count": null,
   "id": "bfe604d6-e659-4d9e-8f46-115b675a57da",
   "metadata": {},
   "outputs": [],
   "source": [
    "%%run_aseba\n",
    "onevent buttons\n",
    "    if button.center==1 then\n",
    "        leds.top=[32,0,0]\n",
    "    elseif button.forward==1 then\n",
    "        leds.top=[0,32,0]\n",
    "    elseif button.backward==1 then\n",
    "        leds.top=[0,0,32]\n",
    "    elseif button.left==1 then\n",
    "        leds.top=[32,32,0]\n",
    "    elseif button.right==1 then\n",
    "        leds.top=[0,32,32]\n",
    "    end"
   ]
  },
  {
   "cell_type": "markdown",
   "id": "efc7d265-2ab3-48c1-984b-ab2cd11df483",
   "metadata": {},
   "source": [
    "Then, the equivalent in Python. Events have to be defined as functions, and decorated with @onevent. Then, if Thymio variables are used inside the event, they should be declared as global (by default they would be considered local variables). This time, %%run_python is used, allowing to send the content of the cell (python code) to the robot and run it."
   ]
  },
  {
   "cell_type": "code",
   "execution_count": null,
   "id": "140d6d67",
   "metadata": {},
   "outputs": [],
   "source": [
    "%%run_python\n",
    "@onevent\n",
    "def buttons():\n",
    "    global button_center, button_forward, button_backward, button_left, button_right, leds_top\n",
    "    if button_center==1: \n",
    "        leds_top=[32,0,0]\n",
    "    elif button_forward==1: \n",
    "        leds_top=[0,32,0]\n",
    "    elif button_backward==1: \n",
    "        leds_top=[0,0,32]\n",
    "    elif button_left==1: \n",
    "        leds_top=[32,32,0]\n",
    "    elif button_right==1: \n",
    "        leds_top=[0,32,32]"
   ]
  },
  {
   "cell_type": "markdown",
   "id": "75fbf98b-bc99-48a3-ac30-737000b40a94",
   "metadata": {},
   "source": [
    "Now that we've seen how to connect to the robot and execute code, we'll go into more details of how to program Thymio in Python."
   ]
  },
  {
   "cell_type": "markdown",
   "id": "7002b170",
   "metadata": {},
   "source": [
    "# Guided tour of the Thymio-Python interface\n",
    "\n",
    "Thymio has a set of native functions, events, and variables linked to its sensors, actuators and other features. The names are similar to the Thymio Aseba API; however, because dots have a different use in Python, they are replaced by underscores. Function names will be preceded with nf_ (for \"native function\").\n",
    "\n",
    "For example:\n",
    "<br>variable `led.rc` in Aseba will become `led_rc` in Python.\n",
    "<br>function `led.top()` in Aseba will become `nf_led_top()` in Python.\n",
    "\n",
    "This section will detail all functionalities with examples."
   ]
  },
  {
   "cell_type": "markdown",
   "id": "fd5a9e00-3c02-4865-8fb4-44b33601c943",
   "metadata": {},
   "source": [
    "## Actuators"
   ]
  },
  {
   "cell_type": "markdown",
   "id": "25fac8ba-91af-44d2-ad46-20118f5ddb30",
   "metadata": {
    "tags": []
   },
   "source": [
    "### LEDs\n",
    "\n",
    "Thymio has many LEDs, which can be accessed either by variables or by native functions. Arguments range from 0 (off) to 32 (fully on). In addition, some constants have been defined for colours in tdmclient: `BLACK`, `BLUE`, `RED`, `GREEN`, `MAGENTA`, `YELLOW`, `CYAN` and `WHITE`."
   ]
  },
  {
   "cell_type": "code",
   "execution_count": null,
   "id": "b3ac7767-834e-4742-a7d6-171f49037bec",
   "metadata": {},
   "outputs": [],
   "source": [
    "var=leds_top\n",
    "print(var)\n",
    "leds_top = [32,0,32]\n",
    "print(leds_top)"
   ]
  },
  {
   "cell_type": "code",
   "execution_count": null,
   "id": "45b1240e-7336-408f-8b36-a317619ca935",
   "metadata": {},
   "outputs": [],
   "source": [
    "leds_top=[0,0,32] #the two top RGB LEDs as a variable. Arguments are in the order red, green, blue"
   ]
  },
  {
   "cell_type": "code",
   "execution_count": null,
   "id": "8d07fca9-e97b-4ca3-866a-2707a4c98885",
   "metadata": {},
   "outputs": [],
   "source": [
    "%%run_python\n",
    "nf_leds_top(0,0,32) #the two top RGB LEDs accessed by a funtion. Arguments are in the order red, green, blue"
   ]
  },
  {
   "cell_type": "code",
   "execution_count": null,
   "id": "dc7cfdef-ffbe-4275-94f4-8bf64772f2c2",
   "metadata": {},
   "outputs": [],
   "source": [
    "leds_bottom_left=[0,32,32] #the bottom left RGB LED as a variable. Arguments are in the order red, green, blue"
   ]
  },
  {
   "cell_type": "code",
   "execution_count": null,
   "id": "fe49a702-2b1f-44ea-8166-068b499c586b",
   "metadata": {},
   "outputs": [],
   "source": [
    "%%run_python\n",
    "nf_leds_bottom_left(0,32,32) #the bottom left RGB LED accessed by a funtion.. Arguments are in the order red, green, blue"
   ]
  },
  {
   "cell_type": "code",
   "execution_count": null,
   "id": "1fd9827e-d206-4b44-8ef6-7ca9cfccf40d",
   "metadata": {},
   "outputs": [],
   "source": [
    "leds_bottom_right=[0,32,0] #the bottom right RGB LED as a variable. Arguments are in the order red, green, blue"
   ]
  },
  {
   "cell_type": "code",
   "execution_count": null,
   "id": "96e176c8-fd12-4b13-999a-5123451847f4",
   "metadata": {},
   "outputs": [],
   "source": [
    "%%run_python\n",
    "nf_leds_bottom_right(0,32,0) #the bottom right RGB LED accessed by a funtion.. Arguments are in the order red, green, blue"
   ]
  },
  {
   "cell_type": "code",
   "execution_count": null,
   "id": "86247df9-ca69-4b39-9941-76796b81786f",
   "metadata": {},
   "outputs": [],
   "source": [
    "leds_circle=[0,4,8,12,16,20,24,28] #the circle of LEDs around the buttons as a variable. The first arguments is the front one, then clockwise."
   ]
  },
  {
   "cell_type": "code",
   "execution_count": null,
   "id": "79422ec9-ee2f-43fb-99ce-bd60fbf7f2b2",
   "metadata": {},
   "outputs": [],
   "source": [
    "%%run_python\n",
    "nf_leds_circle(0,4,8,12,16,20,24,28) #the circle of LEDs around the buttons accessed by a funtion.. The first arguments is the front one, then clockwise."
   ]
  },
  {
   "cell_type": "code",
   "execution_count": null,
   "id": "8e7be09c-035a-47d9-8108-d16f157027ed",
   "metadata": {},
   "outputs": [],
   "source": [
    "%%run_python\n",
    "nf_leds_prox_h(32,24,16,8,0,8,16,32) # the LEDs next to horizontal proximity sensors. The first argument is the front left LED, then clockwise."
   ]
  },
  {
   "cell_type": "code",
   "execution_count": null,
   "id": "d8ce32c6-b944-48a0-a40a-04b3f8d2aea0",
   "metadata": {},
   "outputs": [],
   "source": [
    "%%run_python\n",
    "nf_leds_prox_v(32,8) # the LEDs next to ground sensors. The first argument is the front left LED, then clockwise."
   ]
  },
  {
   "cell_type": "code",
   "execution_count": null,
   "id": "a5a3c030-0634-466e-9bf6-33bc8f84a3a3",
   "metadata": {},
   "outputs": [],
   "source": [
    "%%run_python\n",
    "nf_leds_buttons(32,24,16,8) # the 4 LEDs next to the arrow buttons. The first argument is the left LED, second is the right LED."
   ]
  },
  {
   "cell_type": "code",
   "execution_count": null,
   "id": "d146dd08-f71b-4b23-adb3-8a923f53a60c",
   "metadata": {},
   "outputs": [],
   "source": [
    "%%run_python\n",
    "nf_leds_rc(32) # the LED next to RC receiver."
   ]
  },
  {
   "cell_type": "code",
   "execution_count": null,
   "id": "25c34b15-574d-4459-ab01-338f2a0d27d1",
   "metadata": {},
   "outputs": [],
   "source": [
    "%%run_python\n",
    "nf_leds_temperature(32, 16) # the LEDs next to temperature sensor. First red, second blue."
   ]
  },
  {
   "cell_type": "code",
   "execution_count": null,
   "id": "6e37c11b-cb08-4b59-afdf-d53803037227",
   "metadata": {},
   "outputs": [],
   "source": [
    "%%run_python\n",
    "nf_leds_rc(32) # the LED next to microphone."
   ]
  },
  {
   "cell_type": "markdown",
   "id": "7c078263-590f-41d4-a143-1c849d0f34ed",
   "metadata": {},
   "source": [
    "### Motors\n",
    "The motors are regulated in speed. There are 3 variables that are used per motor:\n",
    "- `motors_left_speed` and `motor_right_speed` : read-only. The current speed value that is measured\n",
    "- `motors_left_pwm` and `motor_right_pwm` : read-only. The pwm value for the control\n",
    "- `motors_left_target` and `motor_right_target` : the target value set by the user, should range from -500 to 500\n",
    "\n",
    "The motors variables are updated in Thymio on the event `motor`, 100 times per second."
   ]
  },
  {
   "cell_type": "code",
   "execution_count": null,
   "id": "12900f43-6d5c-4d28-b80e-3243dd811897",
   "metadata": {},
   "outputs": [],
   "source": [
    "%%run_python\n",
    "# turn on the spot\n",
    "motor_left_target= -200\n",
    "motor_right_target= 200"
   ]
  },
  {
   "cell_type": "code",
   "execution_count": null,
   "id": "9d2255b7-2b3a-404f-8728-6a3da25f428b",
   "metadata": {},
   "outputs": [],
   "source": [
    "# forward\n",
    "motor_left_target= 200\n",
    "motor_right_target= 200"
   ]
  },
  {
   "cell_type": "code",
   "execution_count": null,
   "id": "d7a33fbe-d7e5-40c4-9d4c-53d89bd0624a",
   "metadata": {},
   "outputs": [],
   "source": [
    "# stop\n",
    "motor_left_target= 0\n",
    "motor_right_target= 0"
   ]
  },
  {
   "cell_type": "markdown",
   "id": "00862172-6187-454d-a860-fbd0961dad3d",
   "metadata": {},
   "source": [
    "### Loudspeaker\n",
    "Thymio has several functions to play sound. \n",
    "\n",
    "#### System sounds\n",
    "There are six system sounds which correspond to the sound effects used by Thymio (on/off sound, button beeps, alarm, shock...). "
   ]
  },
  {
   "cell_type": "code",
   "execution_count": null,
   "id": "28fae871-99e3-470c-b5c4-9920bb86efc6",
   "metadata": {},
   "outputs": [],
   "source": [
    "%%run_python\n",
    "nf_sound_system(0) #startup sound"
   ]
  },
  {
   "cell_type": "code",
   "execution_count": null,
   "id": "5f55f21a-d883-4bbe-9faf-bd7816cd79d6",
   "metadata": {},
   "outputs": [],
   "source": [
    "%%run_python\n",
    "nf_sound_system(1) #shutdown sound"
   ]
  },
  {
   "cell_type": "code",
   "execution_count": null,
   "id": "7bf88833-880a-4070-956c-025c1f59aa63",
   "metadata": {},
   "outputs": [],
   "source": [
    "%%run_python\n",
    "nf_sound_system(2) #arrow button sound"
   ]
  },
  {
   "cell_type": "code",
   "execution_count": null,
   "id": "2b185647-8003-4f16-9463-47264574b97e",
   "metadata": {},
   "outputs": [],
   "source": [
    "%%run_python\n",
    "nf_sound_system(3) #center button sound"
   ]
  },
  {
   "cell_type": "code",
   "execution_count": null,
   "id": "657c6953-c5d1-40e5-8a3a-10874be42e25",
   "metadata": {},
   "outputs": [],
   "source": [
    "%%run_python\n",
    "nf_sound_system(4) #alarm"
   ]
  },
  {
   "cell_type": "code",
   "execution_count": null,
   "id": "76a59d12-2725-4c83-a10e-e124557994cf",
   "metadata": {},
   "outputs": [],
   "source": [
    "%%run_python\n",
    "nf_sound_system(5) #schock sound"
   ]
  },
  {
   "cell_type": "code",
   "execution_count": null,
   "id": "970434fa-b6ec-463d-82a6-3bdb575ac7cb",
   "metadata": {},
   "outputs": [],
   "source": [
    "%%run_python\n",
    "nf_sound_system(6) #object following sound"
   ]
  },
  {
   "cell_type": "code",
   "execution_count": null,
   "id": "53badd68-5535-4d0d-90c4-609a952e3353",
   "metadata": {},
   "outputs": [],
   "source": [
    "%%run_python\n",
    "nf_sound_system(7) #object detection sound"
   ]
  },
  {
   "cell_type": "code",
   "execution_count": null,
   "id": "c7bcbc62-7aac-44b6-b6b5-51648325bd91",
   "metadata": {},
   "outputs": [],
   "source": [
    "%%run_python\n",
    "nf_sound_system(-1) #special parameters: stops the playback of system sound"
   ]
  },
  {
   "cell_type": "markdown",
   "id": "9615a914-14f8-439f-bd66-5a9ea37d394c",
   "metadata": {},
   "source": [
    "#### Sounds from the SD card\n",
    "Provided that you have insterted a compatible SD card with sounds recorded in the adequate format, you can play sounds from the SD card. The function `nf_sound_play(N)` will play the file PN.wav, where N is a number from 0 to 32767. Once the playback is finished, the event `sound_finished` will be triggered.\n",
    "<br>The function `nf_sound_stop()` allows to stop the playback.\n",
    "<br>You can find ready-to-use sounds for Thymio [here.](https://drive.google.com/file/d/1pQ6rGTXUps_EtvuKbz_ohWYoaUuPDihd/view?usp=sharing)"
   ]
  },
  {
   "cell_type": "code",
   "execution_count": null,
   "id": "51c22f26-06ab-4f25-9bc1-7ef0ceb56508",
   "metadata": {},
   "outputs": [],
   "source": [
    "%%run_python\n",
    "nf_sound_play(7) #Thymio will play sound P7.wav from the SD card. If the file is not found or not readable, Thymio plays a beep.\n",
    "\n",
    "@onevent\n",
    "def sound_finished():\n",
    "    global leds_top\n",
    "    leds_top=[32,32,32] #Thymio lights up after the sound is played"
   ]
  },
  {
   "cell_type": "markdown",
   "id": "53a9fa51-8aa8-4ecc-8255-a0fb29edd04e",
   "metadata": {},
   "source": [
    "#### Record & Replay\n",
    "Another possibility is to record sound from Thymio and replay it with the functions `nf_sound_record(N)` and `nf_sound_replay(N)` where N is a number from 0 to 32767 in the name of the file RN.wav, which will be recorded or replayed respectively. This required a compatible SD card.\n",
    "<br>The recording is stopped when you call the record function with argument -1 `nf_sound_record(-1)`.\n",
    "<br>You can retrieve the duration of a recorded sound using the `nf_sound_duration(x)` function, where x is a number from 0 to 32767 which is the index of file Rx.wav from the SD card. The result in 1/10 of seconds is returned."
   ]
  },
  {
   "cell_type": "code",
   "execution_count": null,
   "id": "d5061c2b-b6f6-47fa-833c-ed8ccdea36b0",
   "metadata": {},
   "outputs": [],
   "source": [
    "%%run_python\n",
    "\n",
    "@onevent\n",
    "def button_forward():\n",
    "    global leds_top\n",
    "    nf_sound_record(3) #start recording R3.wav\n",
    "    leds_top=[32,0,0] #Thymio lights up red while recording\n",
    "    \n",
    "@onevent\n",
    "def button_backward():\n",
    "    global leds_top\n",
    "    nf_sound_record(-1) #stop recording\n",
    "    leds_top=[0,32,0] #Thymio lights up green after recording\n",
    "    \n",
    "@onevent\n",
    "def button_left():\n",
    "    global leds_top #left arrow to replay the recored sound\n",
    "    nf_sound_replay(3)"
   ]
  },
  {
   "cell_type": "markdown",
   "id": "9eb17f1a-3974-4f5f-87d4-b008f362e4ac",
   "metadata": {},
   "source": [
    "In the next cell we measure the duration of the sound we just recorded. Notice the `--wait` in the first line: this is because we wait for the robot to return the value. Otherwise the interpreter would just execute the commands and move to the next cell.  \n",
    "<br>The execution can then be stopped with the stop (square) button of the interface."
   ]
  },
  {
   "cell_type": "code",
   "execution_count": null,
   "id": "a9ab3a45-1521-4c8a-b41c-6b76e8b9b6ed",
   "metadata": {},
   "outputs": [],
   "source": [
    "%%run_python --wait\n",
    "temp= nf_sound_duration(3)\n",
    "print(temp)"
   ]
  },
  {
   "cell_type": "markdown",
   "id": "fbc20690-8c8b-44b6-a70e-d9a9dac3b007",
   "metadata": {},
   "source": [
    "#### Synthetic sounds\n",
    "\n",
    "The native function `nf_sound_freq(frequency, duration)` plays a frequency, specified in Hz, for a certain duration, specified in 1/60 s. Specifying a 0 duration plays the sound continuously and specifying a -1 duration stops the sound.\n",
    "\n",
    "Synthetic sound generation works by re-sampling a primary wave. By default, it is a triangular wave, but you can define your own wave using the `nf_sound_wave(wave[142])` native function. This function takes as input an array of 142 samples, with values from -128 to 127. This buffer should represent one wave of the tonic frequency specified in `nf_sound_freq`. As Thymio plays sounds at 7812.5 Hz, this array is played completely at the frequency of 7812.5/142 = ~55 Hz. Playing a sound of a higher frequency skips samples in the array."
   ]
  },
  {
   "cell_type": "code",
   "execution_count": null,
   "id": "e8a96c3d-abba-41b9-96e8-2d3ebb842108",
   "metadata": {},
   "outputs": [],
   "source": [
    "%%run_python\n",
    "nf_sound_freq(261, 180) #Thymio plays a poor imitation of C for 3 seconds"
   ]
  },
  {
   "cell_type": "markdown",
   "id": "37b3464e-9748-4e91-8e4b-474fdb55248a",
   "metadata": {},
   "source": [
    "## Sensors"
   ]
  },
  {
   "cell_type": "markdown",
   "id": "4ef825c4-c66a-4197-aa53-ddc429e2e641",
   "metadata": {},
   "source": [
    "### Buttons\n",
    "The state of the buttons can be read through variables. The value is either 1 (touched) or 0 (not touched). Try touching the buttons while executing the code below.\n",
    "The buttons states are updated in Thymio on the event `buttons`, 50 times per second. In addition, the events `button_center`, `button_forward`, `button_backward`, `button_left` and `button_right` are triggered when the respective buttons are touched, or released."
   ]
  },
  {
   "cell_type": "code",
   "execution_count": null,
   "id": "33ef740f-d935-433a-9d2a-c43f107abce9",
   "metadata": {},
   "outputs": [],
   "source": [
    "print('Center button: ',button_center)\n",
    "print('Forward button: ',button_forward)\n",
    "print('Backward button: ',button_backward)\n",
    "print('Left button: ',button_left)\n",
    "print('Right button: ',button_right)"
   ]
  },
  {
   "cell_type": "markdown",
   "id": "11e55e85-cdb0-40b6-b052-2aa991cde19b",
   "metadata": {},
   "source": [
    "### Proximity sensors\n",
    "The state of the proximity sensors can be read through variables. The treatment is a bit different for the horizonal and vertical proximity sensors. The sensor values are updated in Thymio on the event `prox`, 10 times per second. Proximity sensors work with infrared light: they emit a beam of IR light and measure the light that is reflected. An object placed close will reflect more light than one placed far away.\n",
    "\n",
    "#### Horizontal proximity sensors\n",
    "The value is either 0 (nothing is in the field of view) or ranges between 1000 (far away) and 4000+ (very close). The variable `prox_horizontal` is a table of 7 entries for the 7 horizontal sensors, starting with the front left sensor and then in clockwise order. Try placing your hand or an object in front of or behind the robot while executing the code below, to see the values change."
   ]
  },
  {
   "cell_type": "code",
   "execution_count": null,
   "id": "121b9323-cfbb-4fc2-a5ed-6bddd727755f",
   "metadata": {},
   "outputs": [],
   "source": [
    "print('Proximity sensors values: ', prox_horizontal)"
   ]
  },
  {
   "cell_type": "markdown",
   "id": "d2d50179-f5c2-4770-b8ff-0ab337d1c9e8",
   "metadata": {},
   "source": [
    "#### Vertical proximity sensors\n",
    "The vertical proximity sensors (often called ground sensors) are treated a bit differently. \n",
    "<br>They have 3 variables associated: `prox_ground_ambiant`, which measures the ambiant light, `prox_ground_reflected`, which measures the light when the sensor is emitting light, and `prox_ground_delta`, the difference of the two (= the light reflected by the object in front). Each variable is a 2-value table, the first one being for the left sensor and the second for the right sensor.\n",
    "<br>The values range from 0 (nothing detected / no light) to 1023 (something close / lots of light)."
   ]
  },
  {
   "cell_type": "code",
   "execution_count": null,
   "id": "1642eca2-f407-4589-8c01-4e1e1e2ee931",
   "metadata": {},
   "outputs": [],
   "source": [
    "print('Ground sensors ambiant light: ', prox_ground_ambiant)"
   ]
  },
  {
   "cell_type": "code",
   "execution_count": null,
   "id": "0f97d1fb-9cc3-4914-9fc1-cdef16bfd40d",
   "metadata": {},
   "outputs": [],
   "source": [
    "print('Ground sensors measure during light emission: ', prox_ground_reflected)"
   ]
  },
  {
   "cell_type": "code",
   "execution_count": null,
   "id": "06989512-4515-480c-8ba3-263366e3690a",
   "metadata": {},
   "outputs": [],
   "source": [
    "print('Ground sensors delta (light actually reflected by an object in front): ', prox_ground_delta)"
   ]
  },
  {
   "cell_type": "markdown",
   "id": "1cbdc880-a00f-4060-9c4c-046e0f7a2e70",
   "metadata": {},
   "source": [
    "#### Local communication\n",
    "Thymio has way to encode messages in the IR light emitted from the horizontal proximity sensors. This way, Thymios can communicate, provided that they are in the field of view of each other and close enough (~15cm).\n",
    "The communication is activated by the function `nf_prox_comm_enable(state)` with state=1 to enable and state=0 to disable. Then, a value placed into the variable `prox_comme_tx` will be broadcasted by the robot, and values received from other robots will be stored in `prox_comm_rx`. The message can be max 11 bits. When a message is received, event `prox_comm` is triggered."
   ]
  },
  {
   "cell_type": "code",
   "execution_count": null,
   "id": "b720768a-5efd-4b86-871e-28f17ad79657",
   "metadata": {},
   "outputs": [],
   "source": [
    "%%run_python\n",
    "nf_prox_comm_enable(1)\n",
    "prox_comm_tx= 234\n",
    "@onevent\n",
    "def prox_comm():\n",
    "    print(prox_comm_rx) #this will work only if another Thymio is broadcasting"
   ]
  },
  {
   "cell_type": "markdown",
   "id": "5ce1becd-2f32-41c9-9dca-d5b829090de8",
   "metadata": {},
   "source": [
    "### Accelerometer\n",
    "Thymio has a 3-axis accelerometer, which allows to detect its orientation in space, freefall and schocks.\n",
    "<br>The sensor values are stored in variable `acc`, a 3-value table (left-right axis, front-back axis, up-down axis). It is refreshed on event `acc`, at 16 Hz. The values range from -32 to 32, with 23 corresponding to 1 G. \n",
    "<br>In addition, when shocks are detected, event `tap`is triggered."
   ]
  },
  {
   "cell_type": "code",
   "execution_count": null,
   "id": "557165cc-128b-4960-979d-0fd16a44b8e3",
   "metadata": {},
   "outputs": [],
   "source": [
    "%%run_python\n",
    "@onevent\n",
    "def acc():\n",
    "    global acc, leds_top\n",
    "    if acc[0]>18 or acc[0]<-18: #Thymio is blue when placed on one of its sides\n",
    "        leds_top=[0,0,32]\n",
    "    if acc[1]>18 or acc[1]<-18: #Thymio is red when placed on its front or backside\n",
    "        leds_top=[32,0,0]\n",
    "    if acc[2]>18 or acc[2]<-18: #Thymio is green when placed on its wheels or upside-down\n",
    "        leds_top=[0,32,0]"
   ]
  },
  {
   "cell_type": "code",
   "execution_count": null,
   "id": "c1a30e8f-7c48-42f8-8789-568ca8a4f0a2",
   "metadata": {},
   "outputs": [],
   "source": [
    "%%run_python\n",
    "@onevent\n",
    "def tap():\n",
    "    nf_sound_system(1) #Thymio plays the shutdown sound when hit"
   ]
  },
  {
   "cell_type": "markdown",
   "id": "d33b036f-0924-48e9-8b03-97201cca2995",
   "metadata": {},
   "source": [
    "### Microphone\n",
    "Thymio has a microphone; it can be used to record sounds, as seen in the loudspeaker section above (sound record and replay example). Recording uses the function `nf_sound_record(N)` where N is the number in the recorded file name RN.wav. A value of -1 for N will stop the recording. This functionality requires a compatible SD card."
   ]
  },
  {
   "cell_type": "code",
   "execution_count": null,
   "id": "55ced264-df11-40d9-84e9-54bd4fa77416",
   "metadata": {},
   "outputs": [],
   "source": [
    "%%run_python \n",
    "\n",
    "@onevent\n",
    "def button_forward():\n",
    "    global leds_top\n",
    "    nf_sound_record(3) #start recording R3.wav\n",
    "    leds_top=[32,0,0] #Thymio lights up red while recording\n",
    "    \n",
    "@onevent\n",
    "def button_backward():\n",
    "    global leds_top\n",
    "    nf_sound_record(-1) #stop recording\n",
    "    leds_top=[0,32,0] #Thymio lights up green after recording\n",
    "    \n",
    "@onevent\n",
    "def button_left():\n",
    "    global leds_top\n",
    "    nf_sound_replay(3)"
   ]
  },
  {
   "cell_type": "markdown",
   "id": "6a291234-414e-45d3-88fe-f738d0439ea7",
   "metadata": {},
   "source": [
    "The microphone is also used to detect loud sounds to trigger the `mic` event. If the variable containing the measured intensity on the microphone `mic_intensity` is above  the user defined variable `mic_threshold`, then the event `mic` is generated. Both variables range from 0 to 255. Execute the code below and try clapping very loud to make Thymio turn pink."
   ]
  },
  {
   "cell_type": "code",
   "execution_count": null,
   "id": "87baafe2-3380-42f4-ba02-ee6ec0956be6",
   "metadata": {},
   "outputs": [],
   "source": [
    "%%run_python\n",
    "mic_threshold=254\n",
    "\n",
    "@onevent\n",
    "def mic(): \n",
    "    global leds_top\n",
    "    leds_top=[32,0,32]"
   ]
  },
  {
   "cell_type": "markdown",
   "id": "9d0e48ab-6f35-4628-a3fd-16e9b6aee30e",
   "metadata": {},
   "source": [
    "### Temperature sensor\n",
    "Thymio has a temperature sensor which gives the current temperature in 10th of degrees Celsius. The variable `temperature` is updated once per second at the event `temperature`."
   ]
  },
  {
   "cell_type": "code",
   "execution_count": null,
   "id": "257bb13a-c868-41da-933d-5b7b9f1f0c7b",
   "metadata": {},
   "outputs": [],
   "source": [
    "print('current temperature: ', temperature)"
   ]
  },
  {
   "cell_type": "markdown",
   "id": "20500147-38bb-495c-9d20-20991cd9e7a9",
   "metadata": {},
   "source": [
    "### Remote control receiver\n",
    "Thymio contains a receiver for infrared remote controls compatible with the RC5 protocol. When Thymio receives an RC5 code, it generates the `rc5` event. In this case, the variables `rc5_address` and `rc5_command` are updated.\n",
    "\n",
    "Run the code below, and take a remote control. Point it at the right side of Thymio and press some buttons; when something is received, a red light flashes on the side. Then you can see the value received printed below."
   ]
  },
  {
   "cell_type": "code",
   "execution_count": null,
   "id": "d9bfc6a5-85df-4fd8-967d-bc55b977d1ef",
   "metadata": {},
   "outputs": [],
   "source": [
    "%%run_python --wait\n",
    "@onevent\n",
    "def rc5():\n",
    "    print('Received from address: ', rc5_address)\n",
    "    print('Command: ', rc5_command)"
   ]
  },
  {
   "cell_type": "markdown",
   "id": "097004e9-d7a9-4ab7-b9c9-38dd47fcab45",
   "metadata": {},
   "source": [
    "## SD card functions\n",
    "In addition to the sound recording and playback functions that we mentioned above, Thymio can also record data to the SD card.\n",
    "The SD card should be formatted as FAT and support older protocols; it is better to choose a small SD card and avoid SDHC, SDXC.\n",
    "\n",
    "\n",
    "If an SD card is present, the variable `sd_present` is set to 1 (otherwise 0).\n",
    "\n",
    "### Read and write data from the SD card\n",
    "Thymio can read and write data to files. Only a single file can be open at any given time. The unit of reading/writing is a signed 16-bit binary value. The functions provided are:\n",
    "- `nf_sd_open(N)`: opens the file UN.DAT. The value N should be a number between 0 and 32767. Using -1 closes the currently open file. A value of 0 is returned if the operation was successful, -1 if the operation has failed.\n",
    "- `nf_sd_write(data)`: attempts to write the complete `data` array in the currently opened file. The number of values written is returned. It should be equal to the size of data, except if the card was full, or if the file was larger than 4 Gb, or no file was open.\n",
    "- `nf_sd_read(data)`: reads and fills the `data` array from the currently opened file. The number of values read is returned. It should be equal to the size of data, except when the end of the file is encountered or no file was open.\n",
    "- `nf_sd_seek(position)`: moves the current read and write pointers in the currently opened file. The cursor is moved to the absolute `position` in the opened file. The valid range is from 0 to 65535. It is currently not possible to seek to a position after 65535. A value of 0 is returned if the operation was successful, -1 if the operation has failed.\n",
    "\n",
    "You can decode data written in a .DAT file using [our excel sheet with a macro](https://drive.google.com/file/d/1g-kN4llMAY1uEbFcDfYJFC0OMDkOWXVs/view?usp=sharing). The format consists of a simple concatenation of the signed 16-bit binary values.\n",
    "\n",
    "__Note: do not remove the SD card while the robot is turned on. Always power-off the robot before removing the SD card.__\n"
   ]
  },
  {
   "cell_type": "code",
   "execution_count": null,
   "id": "60673092-91f9-4ee7-838b-c5791d7b422e",
   "metadata": {},
   "outputs": [],
   "source": [
    "%%run_python --wait\n",
    "file_open=0\n",
    "data=0\n",
    "data_index=0\n",
    "\n",
    "@onevent \n",
    "def button_center():  #center button: to open/close the file\n",
    "    global file_open, leds_top, button_center\n",
    "    if button_center==1 : #the event is fired twice for each touch of the button: when pressed and when released. We only want to execute this once per touch, so we check the value\n",
    "        if sd_present:\n",
    "            if not file_open: #when the center button is pressed, if an sd card is present and the file is not open yet, open the file U2.dat\n",
    "                result= nf_sd_open(2)\n",
    "                file_open=1\n",
    "                if not result:\n",
    "                    leds_top=GREEN #green means: fils is open and ready to write / read\n",
    "                else :\n",
    "                    leds_top=RED #red means there was a problem\n",
    "            else :\n",
    "                #when the center button is pressed, if the file is open, close it\n",
    "                result= nf_sd_open(-1)\n",
    "                file_open=0\n",
    "                if not result:\n",
    "                    leds_top=BLACK #black / light off means the file is closed\n",
    "                else :\n",
    "                    leds_top=RED #red means there was a problem\n",
    "        else:\n",
    "            leds_top=YELLOW #no sd card detected: thymio becomes yellow\n",
    "            \n",
    "                    \n",
    "@onevent \n",
    "def button_forward(): #on the forward button touch, we'll write \"3\" to the data file\n",
    "    global file_open, leds_top, button_forward, data, data_index\n",
    "    if button_forward==1 : #the event is fired twice for each touch of the button: when pressed and when released. We only want to execute this once per touch, so we check the value\n",
    "        if file_open:\n",
    "            data=3\n",
    "            nf_sd_write(data)\n",
    "            data_index+=1\n",
    "            \n",
    "@onevent \n",
    "def button_backward(): #on the backward button, we'll write \"4\" to the data file\n",
    "    global file_open, leds_top, button_backward, data, data_index\n",
    "    if button_backward==1 : #the event is fired twice for each touch of the button: when pressed and when released. We only want to execute this once per touch, so we check the value\n",
    "        if file_open:\n",
    "            data=4\n",
    "            nf_sd_write(data)\n",
    "            data_index+=1\n",
    "                        \n",
    "@onevent \n",
    "def button_right(): #with the right arrow, we'll read all the written data\n",
    "    global file_open, leds_top, button_right, data, data_index\n",
    "    if button_right==1 : #the event is fired twice for each touch of the button: when pressed and when released. We only want to execute this once per touch, so we check the value\n",
    "        if file_open:\n",
    "            more=0\n",
    "            i=0\n",
    "            \n",
    "            while i<data_index :\n",
    "                more=nf_sd_seek(i)\n",
    "                nf_sd_read(data)\n",
    "                print(data)\n",
    "                i+=1\n"
   ]
  },
  {
   "cell_type": "markdown",
   "id": "5e8a4e18-66cc-4337-b463-e052cb463633",
   "metadata": {},
   "source": [
    "## Events"
   ]
  },
  {
   "cell_type": "markdown",
   "id": "1674c144-52aa-4542-aedd-9228c32e7d11",
   "metadata": {},
   "source": [
    "Thymio has an array of local events, most of which were already explained. In addition, there are two configurable timers, `timer0` and `timer1`. Their periods are set through the `timer_period` variable in milliseconds."
   ]
  },
  {
   "cell_type": "code",
   "execution_count": null,
   "id": "b43aeefd-a694-410e-9deb-b193c4c9e01e",
   "metadata": {
    "tags": []
   },
   "outputs": [],
   "source": [
    "%%run_python\n",
    "timer_period[0]=100 #timer0 will fire 10 times per second\n",
    "timer_period[1]=1000 #timer1 will fire once per second\n",
    "toggle0=0\n",
    "toggle1=0\n",
    "\n",
    "@onevent\n",
    "def timer0(): #on timer0 we toggle the color of the top LEDs\n",
    "    global leds_top, toggle0\n",
    "    if toggle0:\n",
    "        toggle0=0\n",
    "        leds_top=RED\n",
    "    else:\n",
    "        toggle0=1\n",
    "        leds_top=BLACK\n",
    "    \n",
    "@onevent\n",
    "def timer1(): #on timer1 we toggle the color of the bottom LEDs\n",
    "    global leds_bottom_left, leds_bottom_right, toggle1\n",
    "    if toggle1:\n",
    "        toggle1=0\n",
    "        leds_bottom_left=GREEN\n",
    "        leds_bottom_right=GREEN\n",
    "    else:\n",
    "        toggle1=1\n",
    "        leds_bottom_left=BLACK\n",
    "        leds_bottom_right=BLACK  "
   ]
  },
  {
   "cell_type": "markdown",
   "id": "3159c774-19b9-4177-9a19-9ce7311ada0f",
   "metadata": {},
   "source": [
    "### Table of all local events\n",
    "All the local events are described in the table below:"
   ]
  },
  {
   "cell_type": "markdown",
   "id": "861a51c5-4e14-4bce-9b14-ce3c0a664afb",
   "metadata": {},
   "source": [
    "| event | description | frequency (Hz) | result |\n",
    "| :- | :- | :- | :- |\n",
    "| button_backward | back arrow was pressed or released | upon action | button.backward |\n",
    "| button_left | left arrow was pressed or released | upon action | button.left |\n",
    "| button_center | central button was pressed or released | upon action | button.center |\n",
    "|button_forward|front arrow was pressed or released|upon action|button.forward|\n",
    "|button_right|right arrow was pressed or released|upon action|button.right|\n",
    "|buttons|button values have been probed|50|buttons.backward, buttons.left, buttons.center, buttons.forward, buttons.right|\n",
    "|prox|proximity sensors were read|10|prox.horizontal[0-7], prox.ground.ambiant[0-1], prox.ground.reflected[0-1] and prox.ground.delta[0-1] |\n",
    "|prox_comm|value received from IR sensors|upon value reception|prox.comm.rx|\n",
    "|tap|a shock was detected|upon shock|acc[0-2] |\n",
    "|acc|the accelerometer was read|16|acc[0-2] |\n",
    "|mic|ambient sound intensity was above threshold|when condition is true|mic.intensity|\n",
    "|sound_finished|a sound started by aseba has finished playing by itself|when sound finishes|\n",
    "|temperature|temperature was read|1|temperature|\n",
    "|rc5|the infrared remote-control receiver got a signal|upon signal reception|rc5.address and rc5.command|\n",
    "|motor|PID is executed \t100|motor.left/right.speed, motor.left/right.pwm |\n",
    "|timer0|when timer 0 period expires|user-defined||\n",
    "|timer1|when timer 1 period expires|user-defined||"
   ]
  },
  {
   "cell_type": "markdown",
   "id": "5e5bdc4c-e996-4597-8c7a-5a2a07c2a670",
   "metadata": {},
   "source": [
    "### Global events\n",
    "\n",
    "Users can also configure global events, which are not received locally but are set to other nodes in the network in Aseba. In our case, this allows to send event to the computer. In Python for Thymio, global events do not need to be declared. They are sent with the `emit(\"name\")` or `emit(\"name\", param1, param2, ...)` to emit an event without or with parameters. The first argument must be a literal string, delimited with single or double quotes. The remaining arguments, if any, must be scalar expressions and are passed as event data."
   ]
  },
  {
   "cell_type": "markdown",
   "id": "988c7450-17e1-460f-b347-0a2df698f0f8",
   "metadata": {},
   "source": [
    "Let's see the following example. Let's imagine that we want to send a measure of the temperature each time the front button is pressed:"
   ]
  },
  {
   "cell_type": "code",
   "execution_count": null,
   "id": "6731e3a8-6fe5-4efd-8bf3-84aa2b647bb4",
   "metadata": {},
   "outputs": [],
   "source": [
    "%%run_python --wait\n",
    "#this is the code that will run on the robot\n",
    "\n",
    "@onevent\n",
    "def button_forward(): #every time we touch the forward button, a measure of the temperature is made and sent to the computer\n",
    "    if button_forward==1: \n",
    "        global temperature\n",
    "        emit(\"Temp\", temperature)\n",
    "    \n",
    "    \n",
    "@onevent\n",
    "def button_center(): #center button to exit\n",
    "        exit()\n"
   ]
  },
  {
   "cell_type": "markdown",
   "id": "f37b37c4-18bb-4f2a-a434-4175fee36c0e",
   "metadata": {},
   "source": [
    "On the computer, the event data can be retrieved with the function `get_event_data(event_name)`. To clear the past events, use `clear_event_data()`.\n",
    "\n",
    "After executing the code above, press the forward button on Thymio y few times to collect measures, then the center button to exit. Then execute the line below to retrieve the collected data."
   ]
  },
  {
   "cell_type": "code",
   "execution_count": null,
   "id": "a815c222-ae63-4999-8a00-e9d770594f1a",
   "metadata": {},
   "outputs": [],
   "source": [
    "get_event_data(\"Temp\")"
   ]
  },
  {
   "cell_type": "code",
   "execution_count": null,
   "id": "9b43a047-09b7-4a4e-a60d-ecb749b1aa04",
   "metadata": {},
   "outputs": [],
   "source": [
    "clear_event_data()"
   ]
  },
  {
   "cell_type": "markdown",
   "id": "5504299d-c78d-4e09-9243-f26d76fbb742",
   "metadata": {},
   "source": [
    "Custom event can also be sent from the computer to the robot. Let's see an example below where the robot has its own behaviour but reacts to the event sent from the computer:"
   ]
  },
  {
   "cell_type": "code",
   "execution_count": null,
   "id": "8677a02f-216a-42dc-840d-2a76be5f34bf",
   "metadata": {},
   "outputs": [],
   "source": [
    "%%run_python\n",
    "\n",
    "timer_period[0]=1000 #timer0 will fire once per second\n",
    "toggle=0\n",
    "\n",
    "#behaviour of the robot, turning and blinking\n",
    "@onevent\n",
    "def timer0(): #on timer0 we toggle the color of the top LEDs\n",
    "    global leds_top, toggle, motor_left_target, motor_right_target\n",
    "    if toggle:\n",
    "        toggle=0\n",
    "        motor_left_target=100\n",
    "        motor_right_taret=-100\n",
    "        leds_top=RED\n",
    "    else:\n",
    "        toggle=1\n",
    "        motor_left_target=-100\n",
    "        motor_right_target=100\n",
    "        leds_top=BLUE\n",
    "        \n",
    "#custom event, sent from the computer: stop until next time the timer fires\n",
    "@onevent\n",
    "def shortbreak():\n",
    "    global leds_top, motor_left_target, motor_right_target\n",
    "    motor_left_target=0\n",
    "    motor_right_target=0\n",
    "    leds_top=GREEN\n",
    "    \n"
   ]
  },
  {
   "cell_type": "markdown",
   "id": "48534fb2-f9d4-42fd-bdd7-f95a447f64b2",
   "metadata": {},
   "source": [
    "Once this is running on the robot, execute the following cell a few times to see how it turns Thymio green and stops it until the next timer event."
   ]
  },
  {
   "cell_type": "code",
   "execution_count": null,
   "id": "16a25fdf-3fa5-4c0f-9aa5-9c2f7105816e",
   "metadata": {},
   "outputs": [],
   "source": [
    "send_event(\"shortbreak\")"
   ]
  },
  {
   "cell_type": "markdown",
   "id": "5135d2be-21ee-4802-8e73-3dcd8d24a9fb",
   "metadata": {},
   "source": [
    "Use the next cell to stop the robot."
   ]
  },
  {
   "cell_type": "code",
   "execution_count": null,
   "id": "cf74f43e-baa5-4905-bd6d-6f778ce95ba3",
   "metadata": {},
   "outputs": [],
   "source": [
    "%%run_python\n",
    "motor_left_target=0\n",
    "motor_right_target=0"
   ]
  },
  {
   "cell_type": "markdown",
   "id": "adf1e257-2231-4f21-9ac2-bf7d3acb5be7",
   "metadata": {},
   "source": [
    "### Exit and print: special cases of global event\n",
    "In tdmclient, two functions are available, that do not exist in the native functions of Thymio. `print(\"text\", exp, ...)` allows to print to the notebook a string followed by one or more values. `exit()` allows to end the execution of a cell (useful when we used `--wait` at the beginning of the cell).\n",
    "\n",
    "These two functions actually send global events from the robot to the notebook, that are then recognized and used to print something or exit the cell."
   ]
  },
  {
   "cell_type": "code",
   "execution_count": null,
   "id": "0828afc3-8a21-43e0-885c-844b3ca29b44",
   "metadata": {},
   "outputs": [],
   "source": [
    "%%run_python --wait\n",
    "\n",
    "@onevent\n",
    "def button_forward(): #when we touch the forward button, we print something based on the internal state of the robot\n",
    "    if button_forward==1:\n",
    "        print(\"Something based on the internal state of the robot\", acc[2]*prox_ground_delta[0], button_forward)\n",
    "        \n",
    "@onevent\n",
    "def button_center(): #once we're done sending events, the center button will let us exit the cell\n",
    "    if button_center==1:\n",
    "        exit()\n",
    "    "
   ]
  },
  {
   "cell_type": "code",
   "execution_count": null,
   "id": "5f7d5eb2-043c-4c3a-b46d-cd2001823734",
   "metadata": {},
   "outputs": [],
   "source": []
  }
 ],
 "metadata": {
  "kernelspec": {
   "display_name": "Python 3",
   "language": "python",
   "name": "python3"
  },
  "language_info": {
   "codemirror_mode": {
    "name": "ipython",
    "version": 3
   },
   "file_extension": ".py",
   "mimetype": "text/x-python",
   "name": "python",
   "nbconvert_exporter": "python",
   "pygments_lexer": "ipython3",
   "version": "3.7.3"
  }
 },
 "nbformat": 4,
 "nbformat_minor": 5
}
